{
  "cells": [
    {
      "cell_type": "code",
      "source": [
        "#import all libary"
      ],
      "metadata": {
        "id": "enYnEPWQ8o7b"
      },
      "execution_count": 1,
      "outputs": []
    },
    {
      "cell_type": "markdown",
      "source": [
        "     Dataset Description\n",
        "     The dataset originally has 22 features (columns),\n",
        "     but based on diabetes disease research regarding \n",
        "     factors influencing diabetes disease and other\n",
        "     chronic health conditions, only select features\n",
        "     are included in this analysis. \n",
        "\n",
        "     The dataset contains the following information:"
      ],
      "metadata": {
        "id": "dYSS07mqWnOJ"
      }
    },
    {
      "cell_type": "markdown",
      "source": [
        "    1- Diabetes_binary : 0 = no diabetes, 1=diabetes\n",
        "\n",
        "    2- HighBP (High blood pressure ): 0 = no high BP 1 = \n",
        "    high \n",
        "\n",
        "    3-HighChol: 0 = no high cholesterol 1 = high cholesterol\n",
        "    4-CholCheck: 0 = no cholesterol check in 5 years 1 = yes cholesterol check in 5 years\n",
        "    5-BMI: Body Mass \n",
        "    6-Smoker: Have you smoked at least 100 cigarettes in your entire life? [Note: 5 packs = 100 cigarettes] 0 = no 1 = yes\n",
        "    7-Stroke: (Ever told) you had a stroke. 0 = no 1 = yes\n",
        "    8-PhysActivity: physical activity in past 30 days - not including job 0 = no 1 = yes\n",
        "    9- Fruits: Consume Fruit 1 or more times per day 0 = no 1 = yes\n",
        "    10- Weight in gms: It is the weight in grams\n",
        "    11-Veggies: Consume Vegetables 1 or more times per day 0 = no 1 = yes\n",
        "    12- HvyAlcoholConsump : (adult men >=14 drinks per week and adult women>=7 drinks per week) 0 = no 1 = yes\n",
        "    13-AnyHealthcare: Have any kind of health care coverage, including health insurance, prepaid plans such as HMO, etc. 0 = no 1 = yes\n",
        "    14-NoDocbcCost: Was there a time in the past 12 months when you needed to see a doctor but could not because of cost? 0 = no 1 = yes\n",
        "    15-GenHlth: Would you say that in general your health is: scale 1-5 1 = excellent 2 = very good 3 = good 4 = fair 5 = poor\n",
        "    16- MentHlth: days of poor mental health scale 1-30 days\n",
        "    17- PhysHlth: physical illness or injury days in past 30 days scale 1-30\n",
        "    18-DiffWalk: Do you have serious difficulty walking or climbing stairs? 0 = no 1 = yes\n",
        "    19-Sex: 0 = female 1 = male\\n\",\n",
        "    20 -Age: 13-level age category / 1 = 18-24 9 = 60-64 13 = 80 or older\n",
        "    21- Education : Education level (EDUCA see codebook) scale 1-6 1 = Never attended school or only kindergarten 2 = elementary \n",
        "    22-Income: Income scale (INCOME2 see codebook) scale 1-8 1 = less than $10,000 5 = less than $35,000 8 = $75,000 or more"
      ],
      "metadata": {
        "id": "1Dlq011OXFOR"
      }
    },
    {
      "cell_type": "code",
      "execution_count": 2,
      "metadata": {
        "id": "vA8xLXwjV5Qh"
      },
      "outputs": [],
      "source": [
        "import pandas as pd\n",
        "import numpy as np\n",
        "import matplotlib.pyplot as plt\n",
        "import seaborn as sns\n",
        "sns.set()\n",
        "%matplotlib inline\n",
        "from sklearn.model_selection import train_test_split\n",
        "from sklearn.metrics import classification_report,confusion_matrix\n",
        "from sklearn.linear_model import LogisticRegression\n",
        "from sklearn.neighbors import KNeighborsClassifier\n",
        "from imblearn import under_sampling, over_sampling\n",
        "from imblearn.over_sampling import SMOTE"
      ]
    },
    {
      "cell_type": "markdown",
      "source": [
        "Loading Dataset"
      ],
      "metadata": {
        "id": "bVJCcCKb88Re"
      }
    },
    {
      "cell_type": "code",
      "execution_count": 3,
      "metadata": {
        "id": "ItqnfDb7W5l-"
      },
      "outputs": [],
      "source": [
        "Diabetes =pd.read_csv('diabetes.csv')"
      ]
    },
    {
      "cell_type": "code",
      "source": [
        "#print out a few lines"
      ],
      "metadata": {
        "id": "saUS_chh_4Yt"
      },
      "execution_count": 4,
      "outputs": []
    },
    {
      "cell_type": "code",
      "source": [
        "Diabetes.head() #print 5 line of data"
      ],
      "metadata": {
        "colab": {
          "base_uri": "https://localhost:8080/",
          "height": 270
        },
        "id": "qriWi267ADwN",
        "outputId": "b236029b-1ab8-4201-ffd9-1fe74dcc441c"
      },
      "execution_count": 5,
      "outputs": [
        {
          "output_type": "execute_result",
          "data": {
            "text/html": [
              "\n",
              "  <div id=\"df-cb0080a1-b293-4d5c-b1f4-3fc392eb413c\">\n",
              "    <div class=\"colab-df-container\">\n",
              "      <div>\n",
              "<style scoped>\n",
              "    .dataframe tbody tr th:only-of-type {\n",
              "        vertical-align: middle;\n",
              "    }\n",
              "\n",
              "    .dataframe tbody tr th {\n",
              "        vertical-align: top;\n",
              "    }\n",
              "\n",
              "    .dataframe thead th {\n",
              "        text-align: right;\n",
              "    }\n",
              "</style>\n",
              "<table border=\"1\" class=\"dataframe\">\n",
              "  <thead>\n",
              "    <tr style=\"text-align: right;\">\n",
              "      <th></th>\n",
              "      <th>Diabetes_binary</th>\n",
              "      <th>HighBP</th>\n",
              "      <th>HighChol</th>\n",
              "      <th>CholCheck</th>\n",
              "      <th>BMI</th>\n",
              "      <th>Smoker</th>\n",
              "      <th>Stroke</th>\n",
              "      <th>HeartDiseaseorAttack</th>\n",
              "      <th>PhysActivity</th>\n",
              "      <th>Fruits</th>\n",
              "      <th>Veggies</th>\n",
              "      <th>HvyAlcoholConsump</th>\n",
              "      <th>AnyHealthcare</th>\n",
              "      <th>NoDocbcCost</th>\n",
              "      <th>GenHlth</th>\n",
              "      <th>MentHlth</th>\n",
              "      <th>PhysHlth</th>\n",
              "      <th>DiffWalk</th>\n",
              "      <th>Sex</th>\n",
              "      <th>Age</th>\n",
              "      <th>Education</th>\n",
              "      <th>Income</th>\n",
              "    </tr>\n",
              "  </thead>\n",
              "  <tbody>\n",
              "    <tr>\n",
              "      <th>0</th>\n",
              "      <td>0.0</td>\n",
              "      <td>1.0</td>\n",
              "      <td>1.0</td>\n",
              "      <td>1.0</td>\n",
              "      <td>40.0</td>\n",
              "      <td>1.0</td>\n",
              "      <td>0.0</td>\n",
              "      <td>0.0</td>\n",
              "      <td>0.0</td>\n",
              "      <td>0.0</td>\n",
              "      <td>1.0</td>\n",
              "      <td>0.0</td>\n",
              "      <td>1.0</td>\n",
              "      <td>0.0</td>\n",
              "      <td>5.0</td>\n",
              "      <td>18.0</td>\n",
              "      <td>15.0</td>\n",
              "      <td>1.0</td>\n",
              "      <td>0.0</td>\n",
              "      <td>9.0</td>\n",
              "      <td>4.0</td>\n",
              "      <td>3.0</td>\n",
              "    </tr>\n",
              "    <tr>\n",
              "      <th>1</th>\n",
              "      <td>0.0</td>\n",
              "      <td>0.0</td>\n",
              "      <td>0.0</td>\n",
              "      <td>0.0</td>\n",
              "      <td>25.0</td>\n",
              "      <td>1.0</td>\n",
              "      <td>0.0</td>\n",
              "      <td>0.0</td>\n",
              "      <td>1.0</td>\n",
              "      <td>0.0</td>\n",
              "      <td>0.0</td>\n",
              "      <td>0.0</td>\n",
              "      <td>0.0</td>\n",
              "      <td>1.0</td>\n",
              "      <td>3.0</td>\n",
              "      <td>0.0</td>\n",
              "      <td>0.0</td>\n",
              "      <td>0.0</td>\n",
              "      <td>0.0</td>\n",
              "      <td>7.0</td>\n",
              "      <td>6.0</td>\n",
              "      <td>1.0</td>\n",
              "    </tr>\n",
              "    <tr>\n",
              "      <th>2</th>\n",
              "      <td>0.0</td>\n",
              "      <td>1.0</td>\n",
              "      <td>1.0</td>\n",
              "      <td>1.0</td>\n",
              "      <td>28.0</td>\n",
              "      <td>0.0</td>\n",
              "      <td>0.0</td>\n",
              "      <td>0.0</td>\n",
              "      <td>0.0</td>\n",
              "      <td>1.0</td>\n",
              "      <td>0.0</td>\n",
              "      <td>0.0</td>\n",
              "      <td>1.0</td>\n",
              "      <td>1.0</td>\n",
              "      <td>5.0</td>\n",
              "      <td>30.0</td>\n",
              "      <td>30.0</td>\n",
              "      <td>1.0</td>\n",
              "      <td>0.0</td>\n",
              "      <td>9.0</td>\n",
              "      <td>4.0</td>\n",
              "      <td>8.0</td>\n",
              "    </tr>\n",
              "    <tr>\n",
              "      <th>3</th>\n",
              "      <td>0.0</td>\n",
              "      <td>1.0</td>\n",
              "      <td>0.0</td>\n",
              "      <td>1.0</td>\n",
              "      <td>27.0</td>\n",
              "      <td>0.0</td>\n",
              "      <td>0.0</td>\n",
              "      <td>0.0</td>\n",
              "      <td>1.0</td>\n",
              "      <td>1.0</td>\n",
              "      <td>1.0</td>\n",
              "      <td>0.0</td>\n",
              "      <td>1.0</td>\n",
              "      <td>0.0</td>\n",
              "      <td>2.0</td>\n",
              "      <td>0.0</td>\n",
              "      <td>0.0</td>\n",
              "      <td>0.0</td>\n",
              "      <td>0.0</td>\n",
              "      <td>11.0</td>\n",
              "      <td>3.0</td>\n",
              "      <td>6.0</td>\n",
              "    </tr>\n",
              "    <tr>\n",
              "      <th>4</th>\n",
              "      <td>0.0</td>\n",
              "      <td>1.0</td>\n",
              "      <td>1.0</td>\n",
              "      <td>1.0</td>\n",
              "      <td>24.0</td>\n",
              "      <td>0.0</td>\n",
              "      <td>0.0</td>\n",
              "      <td>0.0</td>\n",
              "      <td>1.0</td>\n",
              "      <td>1.0</td>\n",
              "      <td>1.0</td>\n",
              "      <td>0.0</td>\n",
              "      <td>1.0</td>\n",
              "      <td>0.0</td>\n",
              "      <td>2.0</td>\n",
              "      <td>3.0</td>\n",
              "      <td>0.0</td>\n",
              "      <td>0.0</td>\n",
              "      <td>0.0</td>\n",
              "      <td>11.0</td>\n",
              "      <td>5.0</td>\n",
              "      <td>4.0</td>\n",
              "    </tr>\n",
              "  </tbody>\n",
              "</table>\n",
              "</div>\n",
              "      <button class=\"colab-df-convert\" onclick=\"convertToInteractive('df-cb0080a1-b293-4d5c-b1f4-3fc392eb413c')\"\n",
              "              title=\"Convert this dataframe to an interactive table.\"\n",
              "              style=\"display:none;\">\n",
              "        \n",
              "  <svg xmlns=\"http://www.w3.org/2000/svg\" height=\"24px\"viewBox=\"0 0 24 24\"\n",
              "       width=\"24px\">\n",
              "    <path d=\"M0 0h24v24H0V0z\" fill=\"none\"/>\n",
              "    <path d=\"M18.56 5.44l.94 2.06.94-2.06 2.06-.94-2.06-.94-.94-2.06-.94 2.06-2.06.94zm-11 1L8.5 8.5l.94-2.06 2.06-.94-2.06-.94L8.5 2.5l-.94 2.06-2.06.94zm10 10l.94 2.06.94-2.06 2.06-.94-2.06-.94-.94-2.06-.94 2.06-2.06.94z\"/><path d=\"M17.41 7.96l-1.37-1.37c-.4-.4-.92-.59-1.43-.59-.52 0-1.04.2-1.43.59L10.3 9.45l-7.72 7.72c-.78.78-.78 2.05 0 2.83L4 21.41c.39.39.9.59 1.41.59.51 0 1.02-.2 1.41-.59l7.78-7.78 2.81-2.81c.8-.78.8-2.07 0-2.86zM5.41 20L4 18.59l7.72-7.72 1.47 1.35L5.41 20z\"/>\n",
              "  </svg>\n",
              "      </button>\n",
              "      \n",
              "  <style>\n",
              "    .colab-df-container {\n",
              "      display:flex;\n",
              "      flex-wrap:wrap;\n",
              "      gap: 12px;\n",
              "    }\n",
              "\n",
              "    .colab-df-convert {\n",
              "      background-color: #E8F0FE;\n",
              "      border: none;\n",
              "      border-radius: 50%;\n",
              "      cursor: pointer;\n",
              "      display: none;\n",
              "      fill: #1967D2;\n",
              "      height: 32px;\n",
              "      padding: 0 0 0 0;\n",
              "      width: 32px;\n",
              "    }\n",
              "\n",
              "    .colab-df-convert:hover {\n",
              "      background-color: #E2EBFA;\n",
              "      box-shadow: 0px 1px 2px rgba(60, 64, 67, 0.3), 0px 1px 3px 1px rgba(60, 64, 67, 0.15);\n",
              "      fill: #174EA6;\n",
              "    }\n",
              "\n",
              "    [theme=dark] .colab-df-convert {\n",
              "      background-color: #3B4455;\n",
              "      fill: #D2E3FC;\n",
              "    }\n",
              "\n",
              "    [theme=dark] .colab-df-convert:hover {\n",
              "      background-color: #434B5C;\n",
              "      box-shadow: 0px 1px 3px 1px rgba(0, 0, 0, 0.15);\n",
              "      filter: drop-shadow(0px 1px 2px rgba(0, 0, 0, 0.3));\n",
              "      fill: #FFFFFF;\n",
              "    }\n",
              "  </style>\n",
              "\n",
              "      <script>\n",
              "        const buttonEl =\n",
              "          document.querySelector('#df-cb0080a1-b293-4d5c-b1f4-3fc392eb413c button.colab-df-convert');\n",
              "        buttonEl.style.display =\n",
              "          google.colab.kernel.accessAllowed ? 'block' : 'none';\n",
              "\n",
              "        async function convertToInteractive(key) {\n",
              "          const element = document.querySelector('#df-cb0080a1-b293-4d5c-b1f4-3fc392eb413c');\n",
              "          const dataTable =\n",
              "            await google.colab.kernel.invokeFunction('convertToInteractive',\n",
              "                                                     [key], {});\n",
              "          if (!dataTable) return;\n",
              "\n",
              "          const docLinkHtml = 'Like what you see? Visit the ' +\n",
              "            '<a target=\"_blank\" href=https://colab.research.google.com/notebooks/data_table.ipynb>data table notebook</a>'\n",
              "            + ' to learn more about interactive tables.';\n",
              "          element.innerHTML = '';\n",
              "          dataTable['output_type'] = 'display_data';\n",
              "          await google.colab.output.renderOutput(dataTable, element);\n",
              "          const docLink = document.createElement('div');\n",
              "          docLink.innerHTML = docLinkHtml;\n",
              "          element.appendChild(docLink);\n",
              "        }\n",
              "      </script>\n",
              "    </div>\n",
              "  </div>\n",
              "  "
            ],
            "text/plain": [
              "   Diabetes_binary  HighBP  HighChol  CholCheck  ...  Sex   Age  Education  Income\n",
              "0              0.0     1.0       1.0        1.0  ...  0.0   9.0        4.0     3.0\n",
              "1              0.0     0.0       0.0        0.0  ...  0.0   7.0        6.0     1.0\n",
              "2              0.0     1.0       1.0        1.0  ...  0.0   9.0        4.0     8.0\n",
              "3              0.0     1.0       0.0        1.0  ...  0.0  11.0        3.0     6.0\n",
              "4              0.0     1.0       1.0        1.0  ...  0.0  11.0        5.0     4.0\n",
              "\n",
              "[5 rows x 22 columns]"
            ]
          },
          "metadata": {},
          "execution_count": 5
        }
      ]
    },
    {
      "cell_type": "code",
      "source": [
        "# some of  absorvation represent binary value 0,1 "
      ],
      "metadata": {
        "id": "ReNwTVAdANCc"
      },
      "execution_count": 6,
      "outputs": []
    },
    {
      "cell_type": "markdown",
      "metadata": {
        "id": "ssCV5_INXI1m"
      },
      "source": [
        "Exploratory data analysis (EDA)"
      ]
    },
    {
      "cell_type": "code",
      "execution_count": 7,
      "metadata": {
        "colab": {
          "base_uri": "https://localhost:8080/"
        },
        "id": "E1n-5sxVXUMK",
        "outputId": "e14b99c2-a29f-4046-8549-fd514f0027f6"
      },
      "outputs": [
        {
          "output_type": "stream",
          "name": "stdout",
          "text": [
            "Dimension of Diabetes Date : (253680, 22)\n"
          ]
        }
      ],
      "source": [
        "print('Dimension of Diabetes Date : {}'.format(Diabetes.shape))"
      ]
    },
    {
      "cell_type": "code",
      "execution_count": 8,
      "metadata": {
        "colab": {
          "base_uri": "https://localhost:8080/"
        },
        "id": "CuKxxXozXYeH",
        "outputId": "be705af2-148e-446d-d111-299c64871ef1"
      },
      "outputs": [
        {
          "output_type": "stream",
          "name": "stdout",
          "text": [
            "<class 'pandas.core.frame.DataFrame'>\n",
            "RangeIndex: 253680 entries, 0 to 253679\n",
            "Data columns (total 22 columns):\n",
            " #   Column                Non-Null Count   Dtype  \n",
            "---  ------                --------------   -----  \n",
            " 0   Diabetes_binary       253680 non-null  float64\n",
            " 1   HighBP                253680 non-null  float64\n",
            " 2   HighChol              253680 non-null  float64\n",
            " 3   CholCheck             253680 non-null  float64\n",
            " 4   BMI                   253680 non-null  float64\n",
            " 5   Smoker                253680 non-null  float64\n",
            " 6   Stroke                253680 non-null  float64\n",
            " 7   HeartDiseaseorAttack  253680 non-null  float64\n",
            " 8   PhysActivity          253680 non-null  float64\n",
            " 9   Fruits                253680 non-null  float64\n",
            " 10  Veggies               253680 non-null  float64\n",
            " 11  HvyAlcoholConsump     253680 non-null  float64\n",
            " 12  AnyHealthcare         253680 non-null  float64\n",
            " 13  NoDocbcCost           253680 non-null  float64\n",
            " 14  GenHlth               253680 non-null  float64\n",
            " 15  MentHlth              253680 non-null  float64\n",
            " 16  PhysHlth              253680 non-null  float64\n",
            " 17  DiffWalk              253680 non-null  float64\n",
            " 18  Sex                   253680 non-null  float64\n",
            " 19  Age                   253680 non-null  float64\n",
            " 20  Education             253680 non-null  float64\n",
            " 21  Income                253680 non-null  float64\n",
            "dtypes: float64(22)\n",
            "memory usage: 42.6 MB\n"
          ]
        }
      ],
      "source": [
        "Diabetes.info()"
      ]
    },
    {
      "cell_type": "markdown",
      "metadata": {
        "id": "-gG12sswXeIM"
      },
      "source": [
        "General observations\n",
        "\n",
        "    The dataset have 253680 observations,\n",
        "\n",
        "    22 columns and with no null values.\n",
        "    The data types of the variables are float64"
      ]
    },
    {
      "cell_type": "code",
      "execution_count": 9,
      "metadata": {
        "colab": {
          "base_uri": "https://localhost:8080/",
          "height": 364
        },
        "id": "AyHnPlVBXmc3",
        "outputId": "9691df50-3ea6-4f83-cb28-1ac1925af098"
      },
      "outputs": [
        {
          "output_type": "execute_result",
          "data": {
            "text/html": [
              "\n",
              "  <div id=\"df-31460e29-b846-428a-8094-11344ce0d710\">\n",
              "    <div class=\"colab-df-container\">\n",
              "      <div>\n",
              "<style scoped>\n",
              "    .dataframe tbody tr th:only-of-type {\n",
              "        vertical-align: middle;\n",
              "    }\n",
              "\n",
              "    .dataframe tbody tr th {\n",
              "        vertical-align: top;\n",
              "    }\n",
              "\n",
              "    .dataframe thead th {\n",
              "        text-align: right;\n",
              "    }\n",
              "</style>\n",
              "<table border=\"1\" class=\"dataframe\">\n",
              "  <thead>\n",
              "    <tr style=\"text-align: right;\">\n",
              "      <th></th>\n",
              "      <th>Diabetes_binary</th>\n",
              "      <th>HighBP</th>\n",
              "      <th>HighChol</th>\n",
              "      <th>CholCheck</th>\n",
              "      <th>BMI</th>\n",
              "      <th>Smoker</th>\n",
              "      <th>Stroke</th>\n",
              "      <th>HeartDiseaseorAttack</th>\n",
              "      <th>PhysActivity</th>\n",
              "      <th>Fruits</th>\n",
              "      <th>Veggies</th>\n",
              "      <th>HvyAlcoholConsump</th>\n",
              "      <th>AnyHealthcare</th>\n",
              "      <th>NoDocbcCost</th>\n",
              "      <th>GenHlth</th>\n",
              "      <th>MentHlth</th>\n",
              "      <th>PhysHlth</th>\n",
              "      <th>DiffWalk</th>\n",
              "      <th>Sex</th>\n",
              "      <th>Age</th>\n",
              "      <th>Education</th>\n",
              "      <th>Income</th>\n",
              "    </tr>\n",
              "  </thead>\n",
              "  <tbody>\n",
              "    <tr>\n",
              "      <th>count</th>\n",
              "      <td>253680.000000</td>\n",
              "      <td>253680.000000</td>\n",
              "      <td>253680.000000</td>\n",
              "      <td>253680.000000</td>\n",
              "      <td>253680.000000</td>\n",
              "      <td>253680.000000</td>\n",
              "      <td>253680.000000</td>\n",
              "      <td>253680.000000</td>\n",
              "      <td>253680.000000</td>\n",
              "      <td>253680.000000</td>\n",
              "      <td>253680.000000</td>\n",
              "      <td>253680.000000</td>\n",
              "      <td>253680.000000</td>\n",
              "      <td>253680.000000</td>\n",
              "      <td>253680.000000</td>\n",
              "      <td>253680.000000</td>\n",
              "      <td>253680.000000</td>\n",
              "      <td>253680.000000</td>\n",
              "      <td>253680.000000</td>\n",
              "      <td>253680.000000</td>\n",
              "      <td>253680.000000</td>\n",
              "      <td>253680.000000</td>\n",
              "    </tr>\n",
              "    <tr>\n",
              "      <th>mean</th>\n",
              "      <td>0.139333</td>\n",
              "      <td>0.429001</td>\n",
              "      <td>0.424121</td>\n",
              "      <td>0.962670</td>\n",
              "      <td>28.382364</td>\n",
              "      <td>0.443169</td>\n",
              "      <td>0.040571</td>\n",
              "      <td>0.094186</td>\n",
              "      <td>0.756544</td>\n",
              "      <td>0.634256</td>\n",
              "      <td>0.811420</td>\n",
              "      <td>0.056197</td>\n",
              "      <td>0.951053</td>\n",
              "      <td>0.084177</td>\n",
              "      <td>2.511392</td>\n",
              "      <td>3.184772</td>\n",
              "      <td>4.242081</td>\n",
              "      <td>0.168224</td>\n",
              "      <td>0.440342</td>\n",
              "      <td>8.032119</td>\n",
              "      <td>5.050434</td>\n",
              "      <td>6.053875</td>\n",
              "    </tr>\n",
              "    <tr>\n",
              "      <th>std</th>\n",
              "      <td>0.346294</td>\n",
              "      <td>0.494934</td>\n",
              "      <td>0.494210</td>\n",
              "      <td>0.189571</td>\n",
              "      <td>6.608694</td>\n",
              "      <td>0.496761</td>\n",
              "      <td>0.197294</td>\n",
              "      <td>0.292087</td>\n",
              "      <td>0.429169</td>\n",
              "      <td>0.481639</td>\n",
              "      <td>0.391175</td>\n",
              "      <td>0.230302</td>\n",
              "      <td>0.215759</td>\n",
              "      <td>0.277654</td>\n",
              "      <td>1.068477</td>\n",
              "      <td>7.412847</td>\n",
              "      <td>8.717951</td>\n",
              "      <td>0.374066</td>\n",
              "      <td>0.496429</td>\n",
              "      <td>3.054220</td>\n",
              "      <td>0.985774</td>\n",
              "      <td>2.071148</td>\n",
              "    </tr>\n",
              "    <tr>\n",
              "      <th>min</th>\n",
              "      <td>0.000000</td>\n",
              "      <td>0.000000</td>\n",
              "      <td>0.000000</td>\n",
              "      <td>0.000000</td>\n",
              "      <td>12.000000</td>\n",
              "      <td>0.000000</td>\n",
              "      <td>0.000000</td>\n",
              "      <td>0.000000</td>\n",
              "      <td>0.000000</td>\n",
              "      <td>0.000000</td>\n",
              "      <td>0.000000</td>\n",
              "      <td>0.000000</td>\n",
              "      <td>0.000000</td>\n",
              "      <td>0.000000</td>\n",
              "      <td>1.000000</td>\n",
              "      <td>0.000000</td>\n",
              "      <td>0.000000</td>\n",
              "      <td>0.000000</td>\n",
              "      <td>0.000000</td>\n",
              "      <td>1.000000</td>\n",
              "      <td>1.000000</td>\n",
              "      <td>1.000000</td>\n",
              "    </tr>\n",
              "    <tr>\n",
              "      <th>25%</th>\n",
              "      <td>0.000000</td>\n",
              "      <td>0.000000</td>\n",
              "      <td>0.000000</td>\n",
              "      <td>1.000000</td>\n",
              "      <td>24.000000</td>\n",
              "      <td>0.000000</td>\n",
              "      <td>0.000000</td>\n",
              "      <td>0.000000</td>\n",
              "      <td>1.000000</td>\n",
              "      <td>0.000000</td>\n",
              "      <td>1.000000</td>\n",
              "      <td>0.000000</td>\n",
              "      <td>1.000000</td>\n",
              "      <td>0.000000</td>\n",
              "      <td>2.000000</td>\n",
              "      <td>0.000000</td>\n",
              "      <td>0.000000</td>\n",
              "      <td>0.000000</td>\n",
              "      <td>0.000000</td>\n",
              "      <td>6.000000</td>\n",
              "      <td>4.000000</td>\n",
              "      <td>5.000000</td>\n",
              "    </tr>\n",
              "    <tr>\n",
              "      <th>50%</th>\n",
              "      <td>0.000000</td>\n",
              "      <td>0.000000</td>\n",
              "      <td>0.000000</td>\n",
              "      <td>1.000000</td>\n",
              "      <td>27.000000</td>\n",
              "      <td>0.000000</td>\n",
              "      <td>0.000000</td>\n",
              "      <td>0.000000</td>\n",
              "      <td>1.000000</td>\n",
              "      <td>1.000000</td>\n",
              "      <td>1.000000</td>\n",
              "      <td>0.000000</td>\n",
              "      <td>1.000000</td>\n",
              "      <td>0.000000</td>\n",
              "      <td>2.000000</td>\n",
              "      <td>0.000000</td>\n",
              "      <td>0.000000</td>\n",
              "      <td>0.000000</td>\n",
              "      <td>0.000000</td>\n",
              "      <td>8.000000</td>\n",
              "      <td>5.000000</td>\n",
              "      <td>7.000000</td>\n",
              "    </tr>\n",
              "    <tr>\n",
              "      <th>75%</th>\n",
              "      <td>0.000000</td>\n",
              "      <td>1.000000</td>\n",
              "      <td>1.000000</td>\n",
              "      <td>1.000000</td>\n",
              "      <td>31.000000</td>\n",
              "      <td>1.000000</td>\n",
              "      <td>0.000000</td>\n",
              "      <td>0.000000</td>\n",
              "      <td>1.000000</td>\n",
              "      <td>1.000000</td>\n",
              "      <td>1.000000</td>\n",
              "      <td>0.000000</td>\n",
              "      <td>1.000000</td>\n",
              "      <td>0.000000</td>\n",
              "      <td>3.000000</td>\n",
              "      <td>2.000000</td>\n",
              "      <td>3.000000</td>\n",
              "      <td>0.000000</td>\n",
              "      <td>1.000000</td>\n",
              "      <td>10.000000</td>\n",
              "      <td>6.000000</td>\n",
              "      <td>8.000000</td>\n",
              "    </tr>\n",
              "    <tr>\n",
              "      <th>max</th>\n",
              "      <td>1.000000</td>\n",
              "      <td>1.000000</td>\n",
              "      <td>1.000000</td>\n",
              "      <td>1.000000</td>\n",
              "      <td>98.000000</td>\n",
              "      <td>1.000000</td>\n",
              "      <td>1.000000</td>\n",
              "      <td>1.000000</td>\n",
              "      <td>1.000000</td>\n",
              "      <td>1.000000</td>\n",
              "      <td>1.000000</td>\n",
              "      <td>1.000000</td>\n",
              "      <td>1.000000</td>\n",
              "      <td>1.000000</td>\n",
              "      <td>5.000000</td>\n",
              "      <td>30.000000</td>\n",
              "      <td>30.000000</td>\n",
              "      <td>1.000000</td>\n",
              "      <td>1.000000</td>\n",
              "      <td>13.000000</td>\n",
              "      <td>6.000000</td>\n",
              "      <td>8.000000</td>\n",
              "    </tr>\n",
              "  </tbody>\n",
              "</table>\n",
              "</div>\n",
              "      <button class=\"colab-df-convert\" onclick=\"convertToInteractive('df-31460e29-b846-428a-8094-11344ce0d710')\"\n",
              "              title=\"Convert this dataframe to an interactive table.\"\n",
              "              style=\"display:none;\">\n",
              "        \n",
              "  <svg xmlns=\"http://www.w3.org/2000/svg\" height=\"24px\"viewBox=\"0 0 24 24\"\n",
              "       width=\"24px\">\n",
              "    <path d=\"M0 0h24v24H0V0z\" fill=\"none\"/>\n",
              "    <path d=\"M18.56 5.44l.94 2.06.94-2.06 2.06-.94-2.06-.94-.94-2.06-.94 2.06-2.06.94zm-11 1L8.5 8.5l.94-2.06 2.06-.94-2.06-.94L8.5 2.5l-.94 2.06-2.06.94zm10 10l.94 2.06.94-2.06 2.06-.94-2.06-.94-.94-2.06-.94 2.06-2.06.94z\"/><path d=\"M17.41 7.96l-1.37-1.37c-.4-.4-.92-.59-1.43-.59-.52 0-1.04.2-1.43.59L10.3 9.45l-7.72 7.72c-.78.78-.78 2.05 0 2.83L4 21.41c.39.39.9.59 1.41.59.51 0 1.02-.2 1.41-.59l7.78-7.78 2.81-2.81c.8-.78.8-2.07 0-2.86zM5.41 20L4 18.59l7.72-7.72 1.47 1.35L5.41 20z\"/>\n",
              "  </svg>\n",
              "      </button>\n",
              "      \n",
              "  <style>\n",
              "    .colab-df-container {\n",
              "      display:flex;\n",
              "      flex-wrap:wrap;\n",
              "      gap: 12px;\n",
              "    }\n",
              "\n",
              "    .colab-df-convert {\n",
              "      background-color: #E8F0FE;\n",
              "      border: none;\n",
              "      border-radius: 50%;\n",
              "      cursor: pointer;\n",
              "      display: none;\n",
              "      fill: #1967D2;\n",
              "      height: 32px;\n",
              "      padding: 0 0 0 0;\n",
              "      width: 32px;\n",
              "    }\n",
              "\n",
              "    .colab-df-convert:hover {\n",
              "      background-color: #E2EBFA;\n",
              "      box-shadow: 0px 1px 2px rgba(60, 64, 67, 0.3), 0px 1px 3px 1px rgba(60, 64, 67, 0.15);\n",
              "      fill: #174EA6;\n",
              "    }\n",
              "\n",
              "    [theme=dark] .colab-df-convert {\n",
              "      background-color: #3B4455;\n",
              "      fill: #D2E3FC;\n",
              "    }\n",
              "\n",
              "    [theme=dark] .colab-df-convert:hover {\n",
              "      background-color: #434B5C;\n",
              "      box-shadow: 0px 1px 3px 1px rgba(0, 0, 0, 0.15);\n",
              "      filter: drop-shadow(0px 1px 2px rgba(0, 0, 0, 0.3));\n",
              "      fill: #FFFFFF;\n",
              "    }\n",
              "  </style>\n",
              "\n",
              "      <script>\n",
              "        const buttonEl =\n",
              "          document.querySelector('#df-31460e29-b846-428a-8094-11344ce0d710 button.colab-df-convert');\n",
              "        buttonEl.style.display =\n",
              "          google.colab.kernel.accessAllowed ? 'block' : 'none';\n",
              "\n",
              "        async function convertToInteractive(key) {\n",
              "          const element = document.querySelector('#df-31460e29-b846-428a-8094-11344ce0d710');\n",
              "          const dataTable =\n",
              "            await google.colab.kernel.invokeFunction('convertToInteractive',\n",
              "                                                     [key], {});\n",
              "          if (!dataTable) return;\n",
              "\n",
              "          const docLinkHtml = 'Like what you see? Visit the ' +\n",
              "            '<a target=\"_blank\" href=https://colab.research.google.com/notebooks/data_table.ipynb>data table notebook</a>'\n",
              "            + ' to learn more about interactive tables.';\n",
              "          element.innerHTML = '';\n",
              "          dataTable['output_type'] = 'display_data';\n",
              "          await google.colab.output.renderOutput(dataTable, element);\n",
              "          const docLink = document.createElement('div');\n",
              "          docLink.innerHTML = docLinkHtml;\n",
              "          element.appendChild(docLink);\n",
              "        }\n",
              "      </script>\n",
              "    </div>\n",
              "  </div>\n",
              "  "
            ],
            "text/plain": [
              "       Diabetes_binary         HighBP  ...      Education         Income\n",
              "count    253680.000000  253680.000000  ...  253680.000000  253680.000000\n",
              "mean          0.139333       0.429001  ...       5.050434       6.053875\n",
              "std           0.346294       0.494934  ...       0.985774       2.071148\n",
              "min           0.000000       0.000000  ...       1.000000       1.000000\n",
              "25%           0.000000       0.000000  ...       4.000000       5.000000\n",
              "50%           0.000000       0.000000  ...       5.000000       7.000000\n",
              "75%           0.000000       1.000000  ...       6.000000       8.000000\n",
              "max           1.000000       1.000000  ...       6.000000       8.000000\n",
              "\n",
              "[8 rows x 22 columns]"
            ]
          },
          "metadata": {},
          "execution_count": 9
        }
      ],
      "source": [
        "Diabetes.describe()"
      ]
    },
    {
      "cell_type": "markdown",
      "metadata": {
        "id": "rB6an89MXvaX"
      },
      "source": [
        "Checking the missing vlaues"
      ]
    },
    {
      "cell_type": "code",
      "execution_count": 10,
      "metadata": {
        "colab": {
          "base_uri": "https://localhost:8080/",
          "height": 477
        },
        "id": "479J3sxfX00s",
        "outputId": "e128e25f-0b34-44d3-f985-07e9aae889bd"
      },
      "outputs": [
        {
          "output_type": "execute_result",
          "data": {
            "text/plain": [
              "<matplotlib.axes._subplots.AxesSubplot at 0x7f52d081b4d0>"
            ]
          },
          "metadata": {},
          "execution_count": 10
        },
        {
          "output_type": "display_data",
          "data": {
            "image/png": "[encoded data removed]",
            "text/plain": [
              "<Figure size 1800x720 with 2 Axes>"
            ]
          },
          "metadata": {
            "needs_background": "light"
          }
        }
      ],
      "source": [
        "# import missingo library\n",
        "import missingno\n",
        "#visualisa null values\n",
        "missingno.matrix(Diabetes)"
      ]
    },
    {
      "cell_type": "code",
      "execution_count": 11,
      "metadata": {
        "colab": {
          "base_uri": "https://localhost:8080/"
        },
        "id": "6cdx2K2TX534",
        "outputId": "366ea074-3a81-4893-ed73-fd7e08a53138"
      },
      "outputs": [
        {
          "output_type": "execute_result",
          "data": {
            "text/plain": [
              "Diabetes_binary         0\n",
              "HighBP                  0\n",
              "HighChol                0\n",
              "CholCheck               0\n",
              "BMI                     0\n",
              "Smoker                  0\n",
              "Stroke                  0\n",
              "HeartDiseaseorAttack    0\n",
              "PhysActivity            0\n",
              "Fruits                  0\n",
              "Veggies                 0\n",
              "HvyAlcoholConsump       0\n",
              "AnyHealthcare           0\n",
              "NoDocbcCost             0\n",
              "GenHlth                 0\n",
              "MentHlth                0\n",
              "PhysHlth                0\n",
              "DiffWalk                0\n",
              "Sex                     0\n",
              "Age                     0\n",
              "Education               0\n",
              "Income                  0\n",
              "dtype: int64"
            ]
          },
          "metadata": {},
          "execution_count": 11
        }
      ],
      "source": [
        "Diabetes.isnull().sum()"
      ]
    },
    {
      "cell_type": "markdown",
      "metadata": {
        "id": "gi9C3JWOYLf7"
      },
      "source": [
        "Outcomes:\n",
        "\n",
        "    no missing value found"
      ]
    },
    {
      "cell_type": "code",
      "source": [
        "#Get overall idea of the distribution of all columns using hist()"
      ],
      "metadata": {
        "id": "h110U1_3-niq"
      },
      "execution_count": 12,
      "outputs": []
    },
    {
      "cell_type": "code",
      "execution_count": 13,
      "metadata": {
        "colab": {
          "base_uri": "https://localhost:8080/",
          "height": 1000
        },
        "id": "wqwnEezrYWDw",
        "outputId": "648bf860-9417-434b-f840-c3ac438d38c5"
      },
      "outputs": [
        {
          "output_type": "execute_result",
          "data": {
            "text/plain": [
              "array([[<matplotlib.axes._subplots.AxesSubplot object at 0x7f52c7f6fd90>,\n",
              "        <matplotlib.axes._subplots.AxesSubplot object at 0x7f52c7aa5b10>,\n",
              "        <matplotlib.axes._subplots.AxesSubplot object at 0x7f52c7a6a150>,\n",
              "        <matplotlib.axes._subplots.AxesSubplot object at 0x7f52c7a21750>,\n",
              "        <matplotlib.axes._subplots.AxesSubplot object at 0x7f52c79d7d50>],\n",
              "       [<matplotlib.axes._subplots.AxesSubplot object at 0x7f52c7997390>,\n",
              "        <matplotlib.axes._subplots.AxesSubplot object at 0x7f52c794ea10>,\n",
              "        <matplotlib.axes._subplots.AxesSubplot object at 0x7f52c7985f90>,\n",
              "        <matplotlib.axes._subplots.AxesSubplot object at 0x7f52c7913050>,\n",
              "        <matplotlib.axes._subplots.AxesSubplot object at 0x7f52c79466d0>],\n",
              "       [<matplotlib.axes._subplots.AxesSubplot object at 0x7f52c78c0210>,\n",
              "        <matplotlib.axes._subplots.AxesSubplot object at 0x7f52c7876810>,\n",
              "        <matplotlib.axes._subplots.AxesSubplot object at 0x7f52c782ae10>,\n",
              "        <matplotlib.axes._subplots.AxesSubplot object at 0x7f52c77ee450>,\n",
              "        <matplotlib.axes._subplots.AxesSubplot object at 0x7f52c77a4a50>],\n",
              "       [<matplotlib.axes._subplots.AxesSubplot object at 0x7f52c774fb90>,\n",
              "        <matplotlib.axes._subplots.AxesSubplot object at 0x7f52c771d690>,\n",
              "        <matplotlib.axes._subplots.AxesSubplot object at 0x7f52c76d5c90>,\n",
              "        <matplotlib.axes._subplots.AxesSubplot object at 0x7f52c76962d0>,\n",
              "        <matplotlib.axes._subplots.AxesSubplot object at 0x7f52c764d8d0>],\n",
              "       [<matplotlib.axes._subplots.AxesSubplot object at 0x7f52c7683ed0>,\n",
              "        <matplotlib.axes._subplots.AxesSubplot object at 0x7f52c7645510>,\n",
              "        <matplotlib.axes._subplots.AxesSubplot object at 0x7f52c75f9b10>,\n",
              "        <matplotlib.axes._subplots.AxesSubplot object at 0x7f52c75be150>,\n",
              "        <matplotlib.axes._subplots.AxesSubplot object at 0x7f52c7575750>]],\n",
              "      dtype=object)"
            ]
          },
          "metadata": {},
          "execution_count": 13
        },
        {
          "output_type": "display_data",
          "data": {
            "image/png": "[encoded data removed]",
            "text/plain": [
              "<Figure size 1440x2016 with 25 Axes>"
            ]
          },
          "metadata": {
            "needs_background": "light"
          }
        }
      ],
      "source": [
        "Diabetes.hist(figsize=(20,28))"
      ]
    },
    {
      "cell_type": "markdown",
      "metadata": {
        "id": "1324ee8b"
      },
      "source": [
        "### Outcomes\n",
        "    \n",
        "    Diabetes_binary is imbalanced which means number \n",
        "    of people with no diabetes is more than number\n",
        "    of people with diabetes.\n",
        "\n",
        "    Age , income is left -skewed"
      ]
    },
    {
      "cell_type": "markdown",
      "metadata": {
        "id": "D01_pv20YvzK"
      },
      "source": [
        "Questions :\n",
        "\n",
        "    1- what is the incidence rate of Diabetics and   non-Diabetics?\n",
        "\n",
        "    2- What is the rate of Diabetes by Sex ?\n",
        "\n",
        "    3- Do people with diabetes have high blood pressure?\n",
        "\n",
        "    4- Do people with diabetes have high cholesterol?\n",
        "\n",
        "    5- What age is most affected by diabetes?"
      ]
    },
    {
      "cell_type": "markdown",
      "metadata": {
        "id": "m6SzY6w_ZCEx"
      },
      "source": [
        "1- what is the incidence rate of Diabetics and non-Diabetics? "
      ]
    },
    {
      "cell_type": "code",
      "execution_count": 14,
      "metadata": {
        "colab": {
          "base_uri": "https://localhost:8080/",
          "height": 337
        },
        "id": "zIpFvdYoZHYr",
        "outputId": "6fc53bf9-cc66-4541-9b4f-f4fd589614b2"
      },
      "outputs": [
        {
          "output_type": "execute_result",
          "data": {
            "text/plain": [
              "Text(0.5, 1.0, 'The Incidence Rate of Diabetics and non-Diabetics')"
            ]
          },
          "metadata": {},
          "execution_count": 14
        },
        {
          "output_type": "display_data",
          "data": {
            "image/png": "[encoded data removed]",
            "text/plain": [
              "<Figure size 360x360 with 1 Axes>"
            ]
          },
          "metadata": {}
        }
      ],
      "source": [
        "colors = [\"b\",\"r\"]\n",
        "labels = [\"No Diabetes\",\"Diabetes\"]\n",
        "Diabetes.Diabetes_binary.value_counts().plot.pie(labels = labels, figsize=(5,5), autopct='%1.1f%%',colors = colors)\n",
        "plt.title(\"The Incidence Rate of Diabetics and non-Diabetics\")"
      ]
    },
    {
      "cell_type": "markdown",
      "metadata": {
        "id": "Xc6NaU4zZRkp"
      },
      "source": [
        "Outcomes\n",
        "\n",
        "    Percentage of people with diabetes represents 13.9%\n",
        "    Percentage of people with no-diabetes represents 86.1%\n"
      ]
    },
    {
      "cell_type": "markdown",
      "source": [
        ""
      ],
      "metadata": {
        "id": "4VxteedNB-t5"
      }
    },
    {
      "cell_type": "code",
      "execution_count": 15,
      "metadata": {
        "id": "mCV48d2OZVcU"
      },
      "outputs": [],
      "source": [
        "#Change /encode for value ,Let's start with Sex Columns , change value form(0,1) to(F,M)"
      ]
    },
    {
      "cell_type": "code",
      "execution_count": 16,
      "metadata": {
        "id": "ykxJ4EEhZdwn",
        "colab": {
          "base_uri": "https://localhost:8080/"
        },
        "outputId": "e756dbf4-3418-474e-9cda-9d7445719fbf"
      },
      "outputs": [
        {
          "output_type": "execute_result",
          "data": {
            "text/plain": [
              "F    141974\n",
              "M    111706\n",
              "Name: Sex, dtype: int64"
            ]
          },
          "metadata": {},
          "execution_count": 16
        }
      ],
      "source": [
        "Diabetes.loc[Diabetes[\"Sex\"] == 0,\"Sex\"] = 'F'\n",
        "Diabetes.loc[Diabetes[\"Sex\"] == 1,\"Sex\"] = 'M'\n",
        "#cheack value \n",
        "Diabetes.Sex.value_counts()"
      ]
    },
    {
      "cell_type": "markdown",
      "source": [
        "    Famel is more than of Male"
      ],
      "metadata": {
        "id": "qUYAY9TICCg6"
      }
    },
    {
      "cell_type": "code",
      "source": [
        "#change value for Diabetes_binary Columns , change value form(0,1) to(No Diabetes,Diabetes)"
      ],
      "metadata": {
        "id": "WTSHpFWdDLWT"
      },
      "execution_count": 17,
      "outputs": []
    },
    {
      "cell_type": "code",
      "execution_count": 18,
      "metadata": {
        "colab": {
          "base_uri": "https://localhost:8080/"
        },
        "id": "ywmbM1wEZmI0",
        "outputId": "a7022de8-f93f-4f85-a21b-f8f623a76cc3"
      },
      "outputs": [
        {
          "output_type": "execute_result",
          "data": {
            "text/plain": [
              "No Diabetes    218334\n",
              "Diabetes        35346\n",
              "Name: Diabetes_binary, dtype: int64"
            ]
          },
          "metadata": {},
          "execution_count": 18
        }
      ],
      "source": [
        "Diabetes.loc[Diabetes[\"Diabetes_binary\"] == 0,\"Diabetes_binary\"] = 'No Diabetes'\n",
        "Diabetes.loc[Diabetes[\"Diabetes_binary\"] == 1,\"Diabetes_binary\"] = 'Diabetes'\n",
        "#cheack value \n",
        "Diabetes.Diabetes_binary.value_counts()"
      ]
    },
    {
      "cell_type": "markdown",
      "source": [
        "    No Diabetes More than of Diabetes"
      ],
      "metadata": {
        "id": "N2kySUDAEQRs"
      }
    },
    {
      "cell_type": "markdown",
      "metadata": {
        "id": "lTltQSv9Zygj"
      },
      "source": [
        "2- What is the rate of Diabetes by Sex ?"
      ]
    },
    {
      "cell_type": "code",
      "execution_count": 19,
      "metadata": {
        "colab": {
          "base_uri": "https://localhost:8080/",
          "height": 143
        },
        "id": "xts6CNtlZ1mS",
        "outputId": "dae897a2-5c36-4f72-bb8b-46eb7b1980d6"
      },
      "outputs": [
        {
          "output_type": "execute_result",
          "data": {
            "text/html": [
              "\n",
              "  <div id=\"df-8be3c2d8-76c0-4ef2-bd17-d27a1ce74113\">\n",
              "    <div class=\"colab-df-container\">\n",
              "      <div>\n",
              "<style scoped>\n",
              "    .dataframe tbody tr th:only-of-type {\n",
              "        vertical-align: middle;\n",
              "    }\n",
              "\n",
              "    .dataframe tbody tr th {\n",
              "        vertical-align: top;\n",
              "    }\n",
              "\n",
              "    .dataframe thead th {\n",
              "        text-align: right;\n",
              "    }\n",
              "</style>\n",
              "<table border=\"1\" class=\"dataframe\">\n",
              "  <thead>\n",
              "    <tr style=\"text-align: right;\">\n",
              "      <th></th>\n",
              "      <th>Diabetes_binary</th>\n",
              "    </tr>\n",
              "    <tr>\n",
              "      <th>Sex</th>\n",
              "      <th></th>\n",
              "    </tr>\n",
              "  </thead>\n",
              "  <tbody>\n",
              "    <tr>\n",
              "      <th>F</th>\n",
              "      <td>55.965784</td>\n",
              "    </tr>\n",
              "    <tr>\n",
              "      <th>M</th>\n",
              "      <td>44.034216</td>\n",
              "    </tr>\n",
              "  </tbody>\n",
              "</table>\n",
              "</div>\n",
              "      <button class=\"colab-df-convert\" onclick=\"convertToInteractive('df-8be3c2d8-76c0-4ef2-bd17-d27a1ce74113')\"\n",
              "              title=\"Convert this dataframe to an interactive table.\"\n",
              "              style=\"display:none;\">\n",
              "        \n",
              "  <svg xmlns=\"http://www.w3.org/2000/svg\" height=\"24px\"viewBox=\"0 0 24 24\"\n",
              "       width=\"24px\">\n",
              "    <path d=\"M0 0h24v24H0V0z\" fill=\"none\"/>\n",
              "    <path d=\"M18.56 5.44l.94 2.06.94-2.06 2.06-.94-2.06-.94-.94-2.06-.94 2.06-2.06.94zm-11 1L8.5 8.5l.94-2.06 2.06-.94-2.06-.94L8.5 2.5l-.94 2.06-2.06.94zm10 10l.94 2.06.94-2.06 2.06-.94-2.06-.94-.94-2.06-.94 2.06-2.06.94z\"/><path d=\"M17.41 7.96l-1.37-1.37c-.4-.4-.92-.59-1.43-.59-.52 0-1.04.2-1.43.59L10.3 9.45l-7.72 7.72c-.78.78-.78 2.05 0 2.83L4 21.41c.39.39.9.59 1.41.59.51 0 1.02-.2 1.41-.59l7.78-7.78 2.81-2.81c.8-.78.8-2.07 0-2.86zM5.41 20L4 18.59l7.72-7.72 1.47 1.35L5.41 20z\"/>\n",
              "  </svg>\n",
              "      </button>\n",
              "      \n",
              "  <style>\n",
              "    .colab-df-container {\n",
              "      display:flex;\n",
              "      flex-wrap:wrap;\n",
              "      gap: 12px;\n",
              "    }\n",
              "\n",
              "    .colab-df-convert {\n",
              "      background-color: #E8F0FE;\n",
              "      border: none;\n",
              "      border-radius: 50%;\n",
              "      cursor: pointer;\n",
              "      display: none;\n",
              "      fill: #1967D2;\n",
              "      height: 32px;\n",
              "      padding: 0 0 0 0;\n",
              "      width: 32px;\n",
              "    }\n",
              "\n",
              "    .colab-df-convert:hover {\n",
              "      background-color: #E2EBFA;\n",
              "      box-shadow: 0px 1px 2px rgba(60, 64, 67, 0.3), 0px 1px 3px 1px rgba(60, 64, 67, 0.15);\n",
              "      fill: #174EA6;\n",
              "    }\n",
              "\n",
              "    [theme=dark] .colab-df-convert {\n",
              "      background-color: #3B4455;\n",
              "      fill: #D2E3FC;\n",
              "    }\n",
              "\n",
              "    [theme=dark] .colab-df-convert:hover {\n",
              "      background-color: #434B5C;\n",
              "      box-shadow: 0px 1px 3px 1px rgba(0, 0, 0, 0.15);\n",
              "      filter: drop-shadow(0px 1px 2px rgba(0, 0, 0, 0.3));\n",
              "      fill: #FFFFFF;\n",
              "    }\n",
              "  </style>\n",
              "\n",
              "      <script>\n",
              "        const buttonEl =\n",
              "          document.querySelector('#df-8be3c2d8-76c0-4ef2-bd17-d27a1ce74113 button.colab-df-convert');\n",
              "        buttonEl.style.display =\n",
              "          google.colab.kernel.accessAllowed ? 'block' : 'none';\n",
              "\n",
              "        async function convertToInteractive(key) {\n",
              "          const element = document.querySelector('#df-8be3c2d8-76c0-4ef2-bd17-d27a1ce74113');\n",
              "          const dataTable =\n",
              "            await google.colab.kernel.invokeFunction('convertToInteractive',\n",
              "                                                     [key], {});\n",
              "          if (!dataTable) return;\n",
              "\n",
              "          const docLinkHtml = 'Like what you see? Visit the ' +\n",
              "            '<a target=\"_blank\" href=https://colab.research.google.com/notebooks/data_table.ipynb>data table notebook</a>'\n",
              "            + ' to learn more about interactive tables.';\n",
              "          element.innerHTML = '';\n",
              "          dataTable['output_type'] = 'display_data';\n",
              "          await google.colab.output.renderOutput(dataTable, element);\n",
              "          const docLink = document.createElement('div');\n",
              "          docLink.innerHTML = docLinkHtml;\n",
              "          element.appendChild(docLink);\n",
              "        }\n",
              "      </script>\n",
              "    </div>\n",
              "  </div>\n",
              "  "
            ],
            "text/plain": [
              "     Diabetes_binary\n",
              "Sex                 \n",
              "F          55.965784\n",
              "M          44.034216"
            ]
          },
          "metadata": {},
          "execution_count": 19
        }
      ],
      "source": [
        "Percentage_of_infected=pd.DataFrame(Diabetes.groupby('Sex')['Diabetes_binary'].count()).apply(lambda x : x / sum(x) * 100)\n",
        "Percentage_of_infected"
      ]
    },
    {
      "cell_type": "code",
      "execution_count": 20,
      "metadata": {
        "colab": {
          "base_uri": "https://localhost:8080/",
          "height": 438
        },
        "id": "Sh1ozg_sZ58W",
        "outputId": "01812697-300e-4597-9105-edffc960ffdc"
      },
      "outputs": [
        {
          "output_type": "display_data",
          "data": {
            "image/png": "[encoded data removed]",
            "text/plain": [
              "<Figure size 360x360 with 1 Axes>"
            ]
          },
          "metadata": {
            "needs_background": "light"
          }
        }
      ],
      "source": [
        "Diabetes_by_sex= Diabetes.groupby('Sex').Diabetes_binary.value_counts().plot(kind='bar',width =1,figsize=(5,5), color=['Blue','red'])\n",
        "Diabetes_by_sex.set_title(\"Diabetes by Sex ?\")\n",
        "plt.ylabel(\"Count\")\n",
        "plt.xlabel(\"Sex\")\n",
        "plt.legend(['No_Diabetes','Diabetes']);\n",
        "plt.show()"
      ]
    },
    {
      "cell_type": "markdown",
      "metadata": {
        "id": "YEHhBtqraAfM"
      },
      "source": [
        "Outcomes:\n",
        "\n",
        "    number of female with No_Diabetes is higher than males\n",
        "    rate of female with Diabetes =55\n",
        "    rate of males with Diabetes =44\n"
      ]
    },
    {
      "cell_type": "markdown",
      "metadata": {
        "id": "4w8yx_72ar0-"
      },
      "source": [
        " 3-Do people with diabetes have high blood pressure?\n"
      ]
    },
    {
      "cell_type": "code",
      "source": [
        "#change value for HighBP Columns , change value form(0,1) to(No high blood pressure,Have high blood pressure)"
      ],
      "metadata": {
        "id": "5li6cX4qF8PB"
      },
      "execution_count": 21,
      "outputs": []
    },
    {
      "cell_type": "code",
      "source": [
        "#value for HighBP was represent 0,1"
      ],
      "metadata": {
        "id": "JxmYkNjxGUSj"
      },
      "execution_count": 22,
      "outputs": []
    },
    {
      "cell_type": "code",
      "execution_count": 23,
      "metadata": {
        "colab": {
          "base_uri": "https://localhost:8080/"
        },
        "id": "kfzBTbNhat0P",
        "outputId": "3cb54fe7-df1c-4548-b62c-c1b2ab4336a8"
      },
      "outputs": [
        {
          "output_type": "execute_result",
          "data": {
            "text/plain": [
              "0.0    144851\n",
              "1.0    108829\n",
              "Name: HighBP, dtype: int64"
            ]
          },
          "metadata": {},
          "execution_count": 23
        }
      ],
      "source": [
        "Diabetes['HighBP'].value_counts()"
      ]
    },
    {
      "cell_type": "code",
      "execution_count": 24,
      "metadata": {
        "id": "-taKhGZLawwv",
        "colab": {
          "base_uri": "https://localhost:8080/"
        },
        "outputId": "ca440c3d-9d58-447d-a694-b0b41e9089c3"
      },
      "outputs": [
        {
          "output_type": "execute_result",
          "data": {
            "text/plain": [
              "No high blood pressure      144851\n",
              "Have high blood pressure    108829\n",
              "Name: HighBP, dtype: int64"
            ]
          },
          "metadata": {},
          "execution_count": 24
        }
      ],
      "source": [
        "Diabetes.loc[Diabetes[\"HighBP\"] == 0,\"HighBP\"] = 'No high blood pressure'\n",
        "Diabetes.loc[Diabetes[\"HighBP\"] == 1,\"HighBP\"] = 'Have high blood pressure'\n",
        "Diabetes['HighBP'].value_counts()"
      ]
    },
    {
      "cell_type": "code",
      "source": [
        "#No high blood pressure is more than form Have high blood pressure"
      ],
      "metadata": {
        "id": "RObtwkPmGpjt"
      },
      "execution_count": 25,
      "outputs": []
    },
    {
      "cell_type": "code",
      "source": [
        "#visualization "
      ],
      "metadata": {
        "id": "Abm4FT-iG4jQ"
      },
      "execution_count": 26,
      "outputs": []
    },
    {
      "cell_type": "code",
      "execution_count": 27,
      "metadata": {
        "colab": {
          "base_uri": "https://localhost:8080/",
          "height": 360
        },
        "id": "cpLU3Fkaa9Hb",
        "outputId": "766d4534-d06d-411d-bd35-509387e8e4e4"
      },
      "outputs": [
        {
          "output_type": "stream",
          "name": "stderr",
          "text": [
            "/usr/local/lib/python3.7/dist-packages/seaborn/_decorators.py:43: FutureWarning: Pass the following variable as a keyword arg: x. From version 0.12, the only valid positional argument will be `data`, and passing other arguments without an explicit keyword will result in an error or misinterpretation.\n",
            "  FutureWarning\n"
          ]
        },
        {
          "output_type": "execute_result",
          "data": {
            "text/plain": [
              "<matplotlib.axes._subplots.AxesSubplot at 0x7f52c45c66d0>"
            ]
          },
          "metadata": {},
          "execution_count": 27
        },
        {
          "output_type": "display_data",
          "data": {
            "image/png": "[encoded data removed]",
            "text/plain": [
              "<Figure size 432x288 with 1 Axes>"
            ]
          },
          "metadata": {
            "needs_background": "light"
          }
        }
      ],
      "source": [
        "sns.countplot(Diabetes.HighBP,hue='Diabetes_binary',data=Diabetes)"
      ]
    },
    {
      "cell_type": "markdown",
      "metadata": {
        "id": "yjJmNWgYbFhI"
      },
      "source": [
        "Outcomes:\n",
        "\n",
        "\n",
        "    Diabetics who have high blood pressure is \n",
        "    higher than the percentage of diabetics\n",
        "    who do not have high blood pressure\n",
        "\n"
      ]
    },
    {
      "cell_type": "markdown",
      "metadata": {
        "id": "w9h7jH1mbmWU"
      },
      "source": [
        " 4-Do people with diabetes have high cholesterol?\n"
      ]
    },
    {
      "cell_type": "code",
      "source": [
        "##change value for HighChol Columns , change value form(0,1) to(No high Cholesterol,Have high Cholesterol)"
      ],
      "metadata": {
        "id": "E6pDOBChIr55"
      },
      "execution_count": 28,
      "outputs": []
    },
    {
      "cell_type": "code",
      "source": [
        "##value for HighChol was represent 0,1"
      ],
      "metadata": {
        "id": "ypOR-MxXI5NS"
      },
      "execution_count": 29,
      "outputs": []
    },
    {
      "cell_type": "code",
      "execution_count": 30,
      "metadata": {
        "colab": {
          "base_uri": "https://localhost:8080/"
        },
        "id": "pkxNreLMbr-I",
        "outputId": "b5315b07-c683-4baa-d733-a0a8a43f6d6d"
      },
      "outputs": [
        {
          "output_type": "execute_result",
          "data": {
            "text/plain": [
              "0.0    146089\n",
              "1.0    107591\n",
              "Name: HighChol, dtype: int64"
            ]
          },
          "metadata": {},
          "execution_count": 30
        }
      ],
      "source": [
        "Diabetes['HighChol'].value_counts()"
      ]
    },
    {
      "cell_type": "code",
      "execution_count": 31,
      "metadata": {
        "colab": {
          "base_uri": "https://localhost:8080/"
        },
        "id": "JPFXmxnecDO9",
        "outputId": "1090f89d-8780-4140-9379-a9f03ad65d1b"
      },
      "outputs": [
        {
          "output_type": "execute_result",
          "data": {
            "text/plain": [
              "No high Cholesterol      146089\n",
              "Have high Cholesterol    107591\n",
              "Name: HighChol, dtype: int64"
            ]
          },
          "metadata": {},
          "execution_count": 31
        }
      ],
      "source": [
        "Diabetes.loc[Diabetes[\"HighChol\"] == 0,\"HighChol\"] = 'No high Cholesterol'\n",
        "Diabetes.loc[Diabetes[\"HighChol\"] == 1,\"HighChol\"] = 'Have high Cholesterol'\n",
        "Diabetes['HighChol'].value_counts()"
      ]
    },
    {
      "cell_type": "code",
      "source": [
        "#No high Cholesterol is more than form Have high Cholesterol"
      ],
      "metadata": {
        "id": "poM6-kknJDzD"
      },
      "execution_count": 32,
      "outputs": []
    },
    {
      "cell_type": "code",
      "source": [
        "##visualization "
      ],
      "metadata": {
        "id": "DAQDyAw6JNGC"
      },
      "execution_count": 33,
      "outputs": []
    },
    {
      "cell_type": "code",
      "execution_count": 34,
      "metadata": {
        "colab": {
          "base_uri": "https://localhost:8080/",
          "height": 362
        },
        "id": "nQzyYcKzcJOn",
        "outputId": "c44132e5-663f-444c-adf8-6c401cfb684c"
      },
      "outputs": [
        {
          "output_type": "stream",
          "name": "stderr",
          "text": [
            "/usr/local/lib/python3.7/dist-packages/seaborn/_decorators.py:43: FutureWarning: Pass the following variable as a keyword arg: x. From version 0.12, the only valid positional argument will be `data`, and passing other arguments without an explicit keyword will result in an error or misinterpretation.\n",
            "  FutureWarning\n"
          ]
        },
        {
          "output_type": "execute_result",
          "data": {
            "text/plain": [
              "<matplotlib.axes._subplots.AxesSubplot at 0x7f52c7611e10>"
            ]
          },
          "metadata": {},
          "execution_count": 34
        },
        {
          "output_type": "display_data",
          "data": {
            "image/png": "[encoded data removed]",
            "text/plain": [
              "<Figure size 432x288 with 1 Axes>"
            ]
          },
          "metadata": {
            "needs_background": "light"
          }
        }
      ],
      "source": [
        "sns.countplot(Diabetes.HighChol,hue='Diabetes_binary',data=Diabetes)"
      ]
    },
    {
      "cell_type": "markdown",
      "metadata": {
        "id": "nqZcUAjocR3s"
      },
      "source": [
        "Outcomes:\n",
        "\n",
        "    number of people who have Diabetes with high Cholesterol \n",
        "    is higher than number of people who have Diabetes with no high Cholesterol.\n",
        "\n"
      ]
    },
    {
      "cell_type": "markdown",
      "metadata": {
        "id": "6BoBIftDc7_p"
      },
      "source": [
        "5-What age is most affected by diabetes?\n"
      ]
    },
    {
      "cell_type": "code",
      "execution_count": 35,
      "metadata": {
        "colab": {
          "base_uri": "https://localhost:8080/"
        },
        "id": "ZplOvba_c-qb",
        "outputId": "703d9878-298f-4402-dbaf-7d92119ad4b2"
      },
      "outputs": [
        {
          "output_type": "execute_result",
          "data": {
            "text/plain": [
              "9.0     33244\n",
              "10.0    32194\n",
              "8.0     30832\n",
              "7.0     26314\n",
              "11.0    23533\n",
              "6.0     19819\n",
              "13.0    17363\n",
              "5.0     16157\n",
              "12.0    15980\n",
              "4.0     13823\n",
              "3.0     11123\n",
              "2.0      7598\n",
              "1.0      5700\n",
              "Name: Age, dtype: int64"
            ]
          },
          "metadata": {},
          "execution_count": 35
        }
      ],
      "source": [
        "Diabetes['Age'].value_counts()"
      ]
    },
    {
      "cell_type": "code",
      "execution_count": 36,
      "metadata": {
        "id": "XiFiY0qMdXC_",
        "colab": {
          "base_uri": "https://localhost:8080/"
        },
        "outputId": "a65879d5-6867-40cf-dff6-e1e92e560d01"
      },
      "outputs": [
        {
          "output_type": "execute_result",
          "data": {
            "text/plain": [
              "9     33244\n",
              "10    32194\n",
              "8     30832\n",
              "7     26314\n",
              "11    23533\n",
              "6     19819\n",
              "13    17363\n",
              "5     16157\n",
              "12    15980\n",
              "4     13823\n",
              "3     11123\n",
              "2      7598\n",
              "1      5700\n",
              "Name: Age, dtype: int64"
            ]
          },
          "metadata": {},
          "execution_count": 36
        }
      ],
      "source": [
        "##change dtype for age to int\n",
        "Diabetes['Age'] = Diabetes['Age'].astype(np.int64)\n",
        "#check for value \n",
        "Diabetes['Age'].value_counts()"
      ]
    },
    {
      "cell_type": "code",
      "execution_count": 37,
      "metadata": {
        "colab": {
          "base_uri": "https://localhost:8080/",
          "height": 359
        },
        "id": "hzyAAPypdfxx",
        "outputId": "3ae320f9-e0eb-4b26-b6d2-39ff034606ea"
      },
      "outputs": [
        {
          "output_type": "display_data",
          "data": {
            "image/png": "[encoded data removed]",
            "text/plain": [
              "<Figure size 360x360 with 1 Axes>"
            ]
          },
          "metadata": {
            "needs_background": "light"
          }
        }
      ],
      "source": [
        "age = Diabetes.groupby('Age')['Diabetes_binary'].value_counts().unstack().plot(kind='bar',width =1,figsize=(5,5), color=['green','red'])\n",
        "age.set_title(\"Age classification of people with diabetes\")\n",
        "age.set_xlabel('Age classification')\n",
        "age.set_ylabel('count')\n",
        "plt.show()"
      ]
    },
    {
      "cell_type": "markdown",
      "metadata": {
        "id": "7jcpSBysdo1q"
      },
      "source": [
        "Outcomes:\n",
        "\n",
        "age classification is skewed to the left. which means\n",
        "\n",
        "    the percentage of people who are between the level 3-13 have a diabetes more than the rest.\n",
        "    \n",
        "    number of people who have no diabetes is higher\n",
        "\n",
        "hint: Age: 13-level age category\n",
        "\n",
        "    1 = 18-24\n",
        "\n",
        "    9 = 60-64\n",
        "\n",
        "    13 = 80 or older\n",
        "\n"
      ]
    },
    {
      "cell_type": "code",
      "execution_count": 38,
      "metadata": {
        "id": "XvZzEvbLdx2E"
      },
      "outputs": [],
      "source": [
        "#Encoding value form string to binary 0-1 for Diabetes_binary,HighBP,HighChol,Sex columns"
      ]
    },
    {
      "cell_type": "code",
      "source": [
        "# encode value to 0,1 Because the model does not accept a String value"
      ],
      "metadata": {
        "id": "D-sEL5vtMkn7"
      },
      "execution_count": 40,
      "outputs": []
    },
    {
      "cell_type": "code",
      "execution_count": 41,
      "metadata": {
        "colab": {
          "base_uri": "https://localhost:8080/",
          "height": 513
        },
        "id": "xdVspXhdd2Mb",
        "outputId": "cfa4a454-f5af-4136-af9a-6ae6674f7037"
      },
      "outputs": [
        {
          "output_type": "execute_result",
          "data": {
            "text/html": [
              "\n",
              "  <div id=\"df-5e4b4adb-95e8-44c5-a81d-902dc32644fb\">\n",
              "    <div class=\"colab-df-container\">\n",
              "      <div>\n",
              "<style scoped>\n",
              "    .dataframe tbody tr th:only-of-type {\n",
              "        vertical-align: middle;\n",
              "    }\n",
              "\n",
              "    .dataframe tbody tr th {\n",
              "        vertical-align: top;\n",
              "    }\n",
              "\n",
              "    .dataframe thead th {\n",
              "        text-align: right;\n",
              "    }\n",
              "</style>\n",
              "<table border=\"1\" class=\"dataframe\">\n",
              "  <thead>\n",
              "    <tr style=\"text-align: right;\">\n",
              "      <th></th>\n",
              "      <th>Diabetes_binary</th>\n",
              "      <th>HighBP</th>\n",
              "      <th>HighChol</th>\n",
              "      <th>CholCheck</th>\n",
              "      <th>BMI</th>\n",
              "      <th>Smoker</th>\n",
              "      <th>Stroke</th>\n",
              "      <th>HeartDiseaseorAttack</th>\n",
              "      <th>PhysActivity</th>\n",
              "      <th>Fruits</th>\n",
              "      <th>Veggies</th>\n",
              "      <th>HvyAlcoholConsump</th>\n",
              "      <th>AnyHealthcare</th>\n",
              "      <th>NoDocbcCost</th>\n",
              "      <th>GenHlth</th>\n",
              "      <th>MentHlth</th>\n",
              "      <th>PhysHlth</th>\n",
              "      <th>DiffWalk</th>\n",
              "      <th>Sex</th>\n",
              "      <th>Age</th>\n",
              "      <th>Education</th>\n",
              "      <th>Income</th>\n",
              "    </tr>\n",
              "  </thead>\n",
              "  <tbody>\n",
              "    <tr>\n",
              "      <th>0</th>\n",
              "      <td>0</td>\n",
              "      <td>Have high blood pressure</td>\n",
              "      <td>Have high Cholesterol</td>\n",
              "      <td>1.0</td>\n",
              "      <td>40.0</td>\n",
              "      <td>1.0</td>\n",
              "      <td>0.0</td>\n",
              "      <td>0.0</td>\n",
              "      <td>0.0</td>\n",
              "      <td>0.0</td>\n",
              "      <td>1.0</td>\n",
              "      <td>0.0</td>\n",
              "      <td>1.0</td>\n",
              "      <td>0.0</td>\n",
              "      <td>5.0</td>\n",
              "      <td>18.0</td>\n",
              "      <td>15.0</td>\n",
              "      <td>1.0</td>\n",
              "      <td>F</td>\n",
              "      <td>9</td>\n",
              "      <td>4.0</td>\n",
              "      <td>3.0</td>\n",
              "    </tr>\n",
              "    <tr>\n",
              "      <th>1</th>\n",
              "      <td>0</td>\n",
              "      <td>No high blood pressure</td>\n",
              "      <td>No high Cholesterol</td>\n",
              "      <td>0.0</td>\n",
              "      <td>25.0</td>\n",
              "      <td>1.0</td>\n",
              "      <td>0.0</td>\n",
              "      <td>0.0</td>\n",
              "      <td>1.0</td>\n",
              "      <td>0.0</td>\n",
              "      <td>0.0</td>\n",
              "      <td>0.0</td>\n",
              "      <td>0.0</td>\n",
              "      <td>1.0</td>\n",
              "      <td>3.0</td>\n",
              "      <td>0.0</td>\n",
              "      <td>0.0</td>\n",
              "      <td>0.0</td>\n",
              "      <td>F</td>\n",
              "      <td>7</td>\n",
              "      <td>6.0</td>\n",
              "      <td>1.0</td>\n",
              "    </tr>\n",
              "    <tr>\n",
              "      <th>2</th>\n",
              "      <td>0</td>\n",
              "      <td>Have high blood pressure</td>\n",
              "      <td>Have high Cholesterol</td>\n",
              "      <td>1.0</td>\n",
              "      <td>28.0</td>\n",
              "      <td>0.0</td>\n",
              "      <td>0.0</td>\n",
              "      <td>0.0</td>\n",
              "      <td>0.0</td>\n",
              "      <td>1.0</td>\n",
              "      <td>0.0</td>\n",
              "      <td>0.0</td>\n",
              "      <td>1.0</td>\n",
              "      <td>1.0</td>\n",
              "      <td>5.0</td>\n",
              "      <td>30.0</td>\n",
              "      <td>30.0</td>\n",
              "      <td>1.0</td>\n",
              "      <td>F</td>\n",
              "      <td>9</td>\n",
              "      <td>4.0</td>\n",
              "      <td>8.0</td>\n",
              "    </tr>\n",
              "    <tr>\n",
              "      <th>3</th>\n",
              "      <td>0</td>\n",
              "      <td>Have high blood pressure</td>\n",
              "      <td>No high Cholesterol</td>\n",
              "      <td>1.0</td>\n",
              "      <td>27.0</td>\n",
              "      <td>0.0</td>\n",
              "      <td>0.0</td>\n",
              "      <td>0.0</td>\n",
              "      <td>1.0</td>\n",
              "      <td>1.0</td>\n",
              "      <td>1.0</td>\n",
              "      <td>0.0</td>\n",
              "      <td>1.0</td>\n",
              "      <td>0.0</td>\n",
              "      <td>2.0</td>\n",
              "      <td>0.0</td>\n",
              "      <td>0.0</td>\n",
              "      <td>0.0</td>\n",
              "      <td>F</td>\n",
              "      <td>11</td>\n",
              "      <td>3.0</td>\n",
              "      <td>6.0</td>\n",
              "    </tr>\n",
              "    <tr>\n",
              "      <th>4</th>\n",
              "      <td>0</td>\n",
              "      <td>Have high blood pressure</td>\n",
              "      <td>Have high Cholesterol</td>\n",
              "      <td>1.0</td>\n",
              "      <td>24.0</td>\n",
              "      <td>0.0</td>\n",
              "      <td>0.0</td>\n",
              "      <td>0.0</td>\n",
              "      <td>1.0</td>\n",
              "      <td>1.0</td>\n",
              "      <td>1.0</td>\n",
              "      <td>0.0</td>\n",
              "      <td>1.0</td>\n",
              "      <td>0.0</td>\n",
              "      <td>2.0</td>\n",
              "      <td>3.0</td>\n",
              "      <td>0.0</td>\n",
              "      <td>0.0</td>\n",
              "      <td>F</td>\n",
              "      <td>11</td>\n",
              "      <td>5.0</td>\n",
              "      <td>4.0</td>\n",
              "    </tr>\n",
              "  </tbody>\n",
              "</table>\n",
              "</div>\n",
              "      <button class=\"colab-df-convert\" onclick=\"convertToInteractive('df-5e4b4adb-95e8-44c5-a81d-902dc32644fb')\"\n",
              "              title=\"Convert this dataframe to an interactive table.\"\n",
              "              style=\"display:none;\">\n",
              "        \n",
              "  <svg xmlns=\"http://www.w3.org/2000/svg\" height=\"24px\"viewBox=\"0 0 24 24\"\n",
              "       width=\"24px\">\n",
              "    <path d=\"M0 0h24v24H0V0z\" fill=\"none\"/>\n",
              "    <path d=\"M18.56 5.44l.94 2.06.94-2.06 2.06-.94-2.06-.94-.94-2.06-.94 2.06-2.06.94zm-11 1L8.5 8.5l.94-2.06 2.06-.94-2.06-.94L8.5 2.5l-.94 2.06-2.06.94zm10 10l.94 2.06.94-2.06 2.06-.94-2.06-.94-.94-2.06-.94 2.06-2.06.94z\"/><path d=\"M17.41 7.96l-1.37-1.37c-.4-.4-.92-.59-1.43-.59-.52 0-1.04.2-1.43.59L10.3 9.45l-7.72 7.72c-.78.78-.78 2.05 0 2.83L4 21.41c.39.39.9.59 1.41.59.51 0 1.02-.2 1.41-.59l7.78-7.78 2.81-2.81c.8-.78.8-2.07 0-2.86zM5.41 20L4 18.59l7.72-7.72 1.47 1.35L5.41 20z\"/>\n",
              "  </svg>\n",
              "      </button>\n",
              "      \n",
              "  <style>\n",
              "    .colab-df-container {\n",
              "      display:flex;\n",
              "      flex-wrap:wrap;\n",
              "      gap: 12px;\n",
              "    }\n",
              "\n",
              "    .colab-df-convert {\n",
              "      background-color: #E8F0FE;\n",
              "      border: none;\n",
              "      border-radius: 50%;\n",
              "      cursor: pointer;\n",
              "      display: none;\n",
              "      fill: #1967D2;\n",
              "      height: 32px;\n",
              "      padding: 0 0 0 0;\n",
              "      width: 32px;\n",
              "    }\n",
              "\n",
              "    .colab-df-convert:hover {\n",
              "      background-color: #E2EBFA;\n",
              "      box-shadow: 0px 1px 2px rgba(60, 64, 67, 0.3), 0px 1px 3px 1px rgba(60, 64, 67, 0.15);\n",
              "      fill: #174EA6;\n",
              "    }\n",
              "\n",
              "    [theme=dark] .colab-df-convert {\n",
              "      background-color: #3B4455;\n",
              "      fill: #D2E3FC;\n",
              "    }\n",
              "\n",
              "    [theme=dark] .colab-df-convert:hover {\n",
              "      background-color: #434B5C;\n",
              "      box-shadow: 0px 1px 3px 1px rgba(0, 0, 0, 0.15);\n",
              "      filter: drop-shadow(0px 1px 2px rgba(0, 0, 0, 0.3));\n",
              "      fill: #FFFFFF;\n",
              "    }\n",
              "  </style>\n",
              "\n",
              "      <script>\n",
              "        const buttonEl =\n",
              "          document.querySelector('#df-5e4b4adb-95e8-44c5-a81d-902dc32644fb button.colab-df-convert');\n",
              "        buttonEl.style.display =\n",
              "          google.colab.kernel.accessAllowed ? 'block' : 'none';\n",
              "\n",
              "        async function convertToInteractive(key) {\n",
              "          const element = document.querySelector('#df-5e4b4adb-95e8-44c5-a81d-902dc32644fb');\n",
              "          const dataTable =\n",
              "            await google.colab.kernel.invokeFunction('convertToInteractive',\n",
              "                                                     [key], {});\n",
              "          if (!dataTable) return;\n",
              "\n",
              "          const docLinkHtml = 'Like what you see? Visit the ' +\n",
              "            '<a target=\"_blank\" href=https://colab.research.google.com/notebooks/data_table.ipynb>data table notebook</a>'\n",
              "            + ' to learn more about interactive tables.';\n",
              "          element.innerHTML = '';\n",
              "          dataTable['output_type'] = 'display_data';\n",
              "          await google.colab.output.renderOutput(dataTable, element);\n",
              "          const docLink = document.createElement('div');\n",
              "          docLink.innerHTML = docLinkHtml;\n",
              "          element.appendChild(docLink);\n",
              "        }\n",
              "      </script>\n",
              "    </div>\n",
              "  </div>\n",
              "  "
            ],
            "text/plain": [
              "   Diabetes_binary                    HighBP  ... Education  Income\n",
              "0                0  Have high blood pressure  ...       4.0     3.0\n",
              "1                0    No high blood pressure  ...       6.0     1.0\n",
              "2                0  Have high blood pressure  ...       4.0     8.0\n",
              "3                0  Have high blood pressure  ...       3.0     6.0\n",
              "4                0  Have high blood pressure  ...       5.0     4.0\n",
              "\n",
              "[5 rows x 22 columns]"
            ]
          },
          "metadata": {},
          "execution_count": 41
        }
      ],
      "source": [
        "Diabetes_binary_dict = {\n",
        "    'No Diabetes' : 0,\n",
        "    'Diabetes' : 1\n",
        "}\n",
        "Diabetes.Diabetes_binary.map(Diabetes_binary_dict) \n",
        "Diabetes['Diabetes_binary'] =Diabetes.Diabetes_binary.map(Diabetes_binary_dict) \n",
        "Diabetes.head()"
      ]
    },
    {
      "cell_type": "code",
      "source": [
        "#check value"
      ],
      "metadata": {
        "id": "BenfCPFdMN9C"
      },
      "execution_count": null,
      "outputs": []
    },
    {
      "cell_type": "code",
      "execution_count": 42,
      "metadata": {
        "colab": {
          "base_uri": "https://localhost:8080/"
        },
        "id": "tUEDk9yFeHUk",
        "outputId": "f09d6061-24fe-4d87-8347-fb4f9980a2f9"
      },
      "outputs": [
        {
          "output_type": "execute_result",
          "data": {
            "text/plain": [
              "0    218334\n",
              "1     35346\n",
              "Name: Diabetes_binary, dtype: int64"
            ]
          },
          "metadata": {},
          "execution_count": 42
        }
      ],
      "source": [
        "Diabetes['Diabetes_binary'].value_counts()"
      ]
    },
    {
      "cell_type": "code",
      "execution_count": 43,
      "metadata": {
        "colab": {
          "base_uri": "https://localhost:8080/",
          "height": 357
        },
        "id": "vRaxtKK8eLsL",
        "outputId": "6daecf3a-8f5a-43c5-b087-f06a7d11a42e"
      },
      "outputs": [
        {
          "output_type": "execute_result",
          "data": {
            "text/html": [
              "\n",
              "  <div id=\"df-3af211ae-6e42-47e0-b4b6-d1626e634ea6\">\n",
              "    <div class=\"colab-df-container\">\n",
              "      <div>\n",
              "<style scoped>\n",
              "    .dataframe tbody tr th:only-of-type {\n",
              "        vertical-align: middle;\n",
              "    }\n",
              "\n",
              "    .dataframe tbody tr th {\n",
              "        vertical-align: top;\n",
              "    }\n",
              "\n",
              "    .dataframe thead th {\n",
              "        text-align: right;\n",
              "    }\n",
              "</style>\n",
              "<table border=\"1\" class=\"dataframe\">\n",
              "  <thead>\n",
              "    <tr style=\"text-align: right;\">\n",
              "      <th></th>\n",
              "      <th>Diabetes_binary</th>\n",
              "      <th>HighBP</th>\n",
              "      <th>HighChol</th>\n",
              "      <th>CholCheck</th>\n",
              "      <th>BMI</th>\n",
              "      <th>Smoker</th>\n",
              "      <th>Stroke</th>\n",
              "      <th>HeartDiseaseorAttack</th>\n",
              "      <th>PhysActivity</th>\n",
              "      <th>Fruits</th>\n",
              "      <th>Veggies</th>\n",
              "      <th>HvyAlcoholConsump</th>\n",
              "      <th>AnyHealthcare</th>\n",
              "      <th>NoDocbcCost</th>\n",
              "      <th>GenHlth</th>\n",
              "      <th>MentHlth</th>\n",
              "      <th>PhysHlth</th>\n",
              "      <th>DiffWalk</th>\n",
              "      <th>Sex</th>\n",
              "      <th>Age</th>\n",
              "      <th>Education</th>\n",
              "      <th>Income</th>\n",
              "    </tr>\n",
              "  </thead>\n",
              "  <tbody>\n",
              "    <tr>\n",
              "      <th>0</th>\n",
              "      <td>0</td>\n",
              "      <td>1</td>\n",
              "      <td>Have high Cholesterol</td>\n",
              "      <td>1.0</td>\n",
              "      <td>40.0</td>\n",
              "      <td>1.0</td>\n",
              "      <td>0.0</td>\n",
              "      <td>0.0</td>\n",
              "      <td>0.0</td>\n",
              "      <td>0.0</td>\n",
              "      <td>1.0</td>\n",
              "      <td>0.0</td>\n",
              "      <td>1.0</td>\n",
              "      <td>0.0</td>\n",
              "      <td>5.0</td>\n",
              "      <td>18.0</td>\n",
              "      <td>15.0</td>\n",
              "      <td>1.0</td>\n",
              "      <td>F</td>\n",
              "      <td>9</td>\n",
              "      <td>4.0</td>\n",
              "      <td>3.0</td>\n",
              "    </tr>\n",
              "    <tr>\n",
              "      <th>1</th>\n",
              "      <td>0</td>\n",
              "      <td>0</td>\n",
              "      <td>No high Cholesterol</td>\n",
              "      <td>0.0</td>\n",
              "      <td>25.0</td>\n",
              "      <td>1.0</td>\n",
              "      <td>0.0</td>\n",
              "      <td>0.0</td>\n",
              "      <td>1.0</td>\n",
              "      <td>0.0</td>\n",
              "      <td>0.0</td>\n",
              "      <td>0.0</td>\n",
              "      <td>0.0</td>\n",
              "      <td>1.0</td>\n",
              "      <td>3.0</td>\n",
              "      <td>0.0</td>\n",
              "      <td>0.0</td>\n",
              "      <td>0.0</td>\n",
              "      <td>F</td>\n",
              "      <td>7</td>\n",
              "      <td>6.0</td>\n",
              "      <td>1.0</td>\n",
              "    </tr>\n",
              "    <tr>\n",
              "      <th>2</th>\n",
              "      <td>0</td>\n",
              "      <td>1</td>\n",
              "      <td>Have high Cholesterol</td>\n",
              "      <td>1.0</td>\n",
              "      <td>28.0</td>\n",
              "      <td>0.0</td>\n",
              "      <td>0.0</td>\n",
              "      <td>0.0</td>\n",
              "      <td>0.0</td>\n",
              "      <td>1.0</td>\n",
              "      <td>0.0</td>\n",
              "      <td>0.0</td>\n",
              "      <td>1.0</td>\n",
              "      <td>1.0</td>\n",
              "      <td>5.0</td>\n",
              "      <td>30.0</td>\n",
              "      <td>30.0</td>\n",
              "      <td>1.0</td>\n",
              "      <td>F</td>\n",
              "      <td>9</td>\n",
              "      <td>4.0</td>\n",
              "      <td>8.0</td>\n",
              "    </tr>\n",
              "    <tr>\n",
              "      <th>3</th>\n",
              "      <td>0</td>\n",
              "      <td>1</td>\n",
              "      <td>No high Cholesterol</td>\n",
              "      <td>1.0</td>\n",
              "      <td>27.0</td>\n",
              "      <td>0.0</td>\n",
              "      <td>0.0</td>\n",
              "      <td>0.0</td>\n",
              "      <td>1.0</td>\n",
              "      <td>1.0</td>\n",
              "      <td>1.0</td>\n",
              "      <td>0.0</td>\n",
              "      <td>1.0</td>\n",
              "      <td>0.0</td>\n",
              "      <td>2.0</td>\n",
              "      <td>0.0</td>\n",
              "      <td>0.0</td>\n",
              "      <td>0.0</td>\n",
              "      <td>F</td>\n",
              "      <td>11</td>\n",
              "      <td>3.0</td>\n",
              "      <td>6.0</td>\n",
              "    </tr>\n",
              "    <tr>\n",
              "      <th>4</th>\n",
              "      <td>0</td>\n",
              "      <td>1</td>\n",
              "      <td>Have high Cholesterol</td>\n",
              "      <td>1.0</td>\n",
              "      <td>24.0</td>\n",
              "      <td>0.0</td>\n",
              "      <td>0.0</td>\n",
              "      <td>0.0</td>\n",
              "      <td>1.0</td>\n",
              "      <td>1.0</td>\n",
              "      <td>1.0</td>\n",
              "      <td>0.0</td>\n",
              "      <td>1.0</td>\n",
              "      <td>0.0</td>\n",
              "      <td>2.0</td>\n",
              "      <td>3.0</td>\n",
              "      <td>0.0</td>\n",
              "      <td>0.0</td>\n",
              "      <td>F</td>\n",
              "      <td>11</td>\n",
              "      <td>5.0</td>\n",
              "      <td>4.0</td>\n",
              "    </tr>\n",
              "  </tbody>\n",
              "</table>\n",
              "</div>\n",
              "      <button class=\"colab-df-convert\" onclick=\"convertToInteractive('df-3af211ae-6e42-47e0-b4b6-d1626e634ea6')\"\n",
              "              title=\"Convert this dataframe to an interactive table.\"\n",
              "              style=\"display:none;\">\n",
              "        \n",
              "  <svg xmlns=\"http://www.w3.org/2000/svg\" height=\"24px\"viewBox=\"0 0 24 24\"\n",
              "       width=\"24px\">\n",
              "    <path d=\"M0 0h24v24H0V0z\" fill=\"none\"/>\n",
              "    <path d=\"M18.56 5.44l.94 2.06.94-2.06 2.06-.94-2.06-.94-.94-2.06-.94 2.06-2.06.94zm-11 1L8.5 8.5l.94-2.06 2.06-.94-2.06-.94L8.5 2.5l-.94 2.06-2.06.94zm10 10l.94 2.06.94-2.06 2.06-.94-2.06-.94-.94-2.06-.94 2.06-2.06.94z\"/><path d=\"M17.41 7.96l-1.37-1.37c-.4-.4-.92-.59-1.43-.59-.52 0-1.04.2-1.43.59L10.3 9.45l-7.72 7.72c-.78.78-.78 2.05 0 2.83L4 21.41c.39.39.9.59 1.41.59.51 0 1.02-.2 1.41-.59l7.78-7.78 2.81-2.81c.8-.78.8-2.07 0-2.86zM5.41 20L4 18.59l7.72-7.72 1.47 1.35L5.41 20z\"/>\n",
              "  </svg>\n",
              "      </button>\n",
              "      \n",
              "  <style>\n",
              "    .colab-df-container {\n",
              "      display:flex;\n",
              "      flex-wrap:wrap;\n",
              "      gap: 12px;\n",
              "    }\n",
              "\n",
              "    .colab-df-convert {\n",
              "      background-color: #E8F0FE;\n",
              "      border: none;\n",
              "      border-radius: 50%;\n",
              "      cursor: pointer;\n",
              "      display: none;\n",
              "      fill: #1967D2;\n",
              "      height: 32px;\n",
              "      padding: 0 0 0 0;\n",
              "      width: 32px;\n",
              "    }\n",
              "\n",
              "    .colab-df-convert:hover {\n",
              "      background-color: #E2EBFA;\n",
              "      box-shadow: 0px 1px 2px rgba(60, 64, 67, 0.3), 0px 1px 3px 1px rgba(60, 64, 67, 0.15);\n",
              "      fill: #174EA6;\n",
              "    }\n",
              "\n",
              "    [theme=dark] .colab-df-convert {\n",
              "      background-color: #3B4455;\n",
              "      fill: #D2E3FC;\n",
              "    }\n",
              "\n",
              "    [theme=dark] .colab-df-convert:hover {\n",
              "      background-color: #434B5C;\n",
              "      box-shadow: 0px 1px 3px 1px rgba(0, 0, 0, 0.15);\n",
              "      filter: drop-shadow(0px 1px 2px rgba(0, 0, 0, 0.3));\n",
              "      fill: #FFFFFF;\n",
              "    }\n",
              "  </style>\n",
              "\n",
              "      <script>\n",
              "        const buttonEl =\n",
              "          document.querySelector('#df-3af211ae-6e42-47e0-b4b6-d1626e634ea6 button.colab-df-convert');\n",
              "        buttonEl.style.display =\n",
              "          google.colab.kernel.accessAllowed ? 'block' : 'none';\n",
              "\n",
              "        async function convertToInteractive(key) {\n",
              "          const element = document.querySelector('#df-3af211ae-6e42-47e0-b4b6-d1626e634ea6');\n",
              "          const dataTable =\n",
              "            await google.colab.kernel.invokeFunction('convertToInteractive',\n",
              "                                                     [key], {});\n",
              "          if (!dataTable) return;\n",
              "\n",
              "          const docLinkHtml = 'Like what you see? Visit the ' +\n",
              "            '<a target=\"_blank\" href=https://colab.research.google.com/notebooks/data_table.ipynb>data table notebook</a>'\n",
              "            + ' to learn more about interactive tables.';\n",
              "          element.innerHTML = '';\n",
              "          dataTable['output_type'] = 'display_data';\n",
              "          await google.colab.output.renderOutput(dataTable, element);\n",
              "          const docLink = document.createElement('div');\n",
              "          docLink.innerHTML = docLinkHtml;\n",
              "          element.appendChild(docLink);\n",
              "        }\n",
              "      </script>\n",
              "    </div>\n",
              "  </div>\n",
              "  "
            ],
            "text/plain": [
              "   Diabetes_binary  HighBP               HighChol  ...  Age  Education  Income\n",
              "0                0       1  Have high Cholesterol  ...    9        4.0     3.0\n",
              "1                0       0    No high Cholesterol  ...    7        6.0     1.0\n",
              "2                0       1  Have high Cholesterol  ...    9        4.0     8.0\n",
              "3                0       1    No high Cholesterol  ...   11        3.0     6.0\n",
              "4                0       1  Have high Cholesterol  ...   11        5.0     4.0\n",
              "\n",
              "[5 rows x 22 columns]"
            ]
          },
          "metadata": {},
          "execution_count": 43
        }
      ],
      "source": [
        "HighBP_dict = {\n",
        "    'No high blood pressure' : 0,\n",
        "    'Have high blood pressure' : 1\n",
        "}\n",
        "Diabetes.HighBP.map(HighBP_dict) \n",
        "Diabetes['HighBP'] =Diabetes.HighBP.map(HighBP_dict) \n",
        "Diabetes.head()"
      ]
    },
    {
      "cell_type": "code",
      "execution_count": 44,
      "metadata": {
        "colab": {
          "base_uri": "https://localhost:8080/"
        },
        "id": "BTRCcokyeay0",
        "outputId": "1f234eb5-08a9-48b9-95fd-66f9c013c275"
      },
      "outputs": [
        {
          "output_type": "execute_result",
          "data": {
            "text/plain": [
              "0    146089\n",
              "1    107591\n",
              "Name: HighChol, dtype: int64"
            ]
          },
          "metadata": {},
          "execution_count": 44
        }
      ],
      "source": [
        "HighChol_dict = {\n",
        "    'No high Cholesterol' : 0,\n",
        "    'Have high Cholesterol' : 1\n",
        "}\n",
        "Diabetes.HighChol.map(HighChol_dict) \n",
        "Diabetes['HighChol'] =Diabetes.HighChol.map(HighChol_dict) \n",
        "Diabetes['HighChol'].value_counts()"
      ]
    },
    {
      "cell_type": "code",
      "execution_count": 45,
      "metadata": {
        "colab": {
          "base_uri": "https://localhost:8080/"
        },
        "id": "vWebqlXoeik1",
        "outputId": "590f3000-3fa3-409c-ce29-a482c33c55de"
      },
      "outputs": [
        {
          "output_type": "execute_result",
          "data": {
            "text/plain": [
              "0    141974\n",
              "1    111706\n",
              "Name: Sex, dtype: int64"
            ]
          },
          "metadata": {},
          "execution_count": 45
        }
      ],
      "source": [
        "Sex_dict = {\n",
        "    'F' : 0,\n",
        "    'M' : 1\n",
        "}\n",
        "Diabetes.Sex.map(Sex_dict) \n",
        "Diabetes['Sex'] =Diabetes.Sex.map(Sex_dict) \n",
        "Diabetes['Sex'].value_counts()"
      ]
    },
    {
      "cell_type": "code",
      "source": [
        "##change Data type for columns form flot to int"
      ],
      "metadata": {
        "id": "4XsZO1PnM3Dk"
      },
      "execution_count": 46,
      "outputs": []
    },
    {
      "cell_type": "code",
      "execution_count": 47,
      "metadata": {
        "id": "cA_9jnIDekkA"
      },
      "outputs": [],
      "source": [
        "\n",
        "Diabetes['CholCheck'] = Diabetes['CholCheck'].astype(np.int64)\n",
        "Diabetes['BMI'] = Diabetes['BMI'].astype(np.int64)\n",
        "Diabetes['Smoker'] = Diabetes['Smoker'].astype(np.int64)\n",
        "Diabetes['Stroke'] = Diabetes['Stroke'].astype(np.int64)\n",
        "Diabetes['HeartDiseaseorAttack'] = Diabetes['HeartDiseaseorAttack'].astype(np.int64)\n",
        "Diabetes['PhysActivity'] = Diabetes['PhysActivity'].astype(np.int64)\n",
        "Diabetes['Fruits'] = Diabetes['Fruits'].astype(np.int64)\n",
        "Diabetes['Veggies'] = Diabetes['Veggies'].astype(np.int64)\n",
        "Diabetes['HvyAlcoholConsump'] = Diabetes['HvyAlcoholConsump'].astype(np.int64)\n",
        "Diabetes['AnyHealthcare'] = Diabetes['AnyHealthcare'].astype(np.int64)\n",
        "Diabetes['NoDocbcCost'] = Diabetes['NoDocbcCost'].astype(np.int64)\n",
        "Diabetes['GenHlth'] = Diabetes['GenHlth'].astype(np.int64)\n",
        "Diabetes['MentHlth'] = Diabetes['MentHlth'].astype(np.int64)\n",
        "Diabetes['PhysHlth'] = Diabetes['PhysHlth'].astype(np.int64)\n",
        "Diabetes['DiffWalk'] = Diabetes['DiffWalk'].astype(np.int64)\n",
        "Diabetes['Education'] = Diabetes['Education'].astype(np.int64)\n",
        "Diabetes['Income'] = Diabetes['Income'].astype(np.int64)\n",
        "Diabetes['Sex'] = Diabetes['Sex'].astype(np.int64)"
      ]
    },
    {
      "cell_type": "code",
      "execution_count": 48,
      "metadata": {
        "colab": {
          "base_uri": "https://localhost:8080/"
        },
        "id": "OqoBpw_We8DQ",
        "outputId": "70f0ee0c-4ae0-43cc-ae05-4980b0413b20"
      },
      "outputs": [
        {
          "output_type": "stream",
          "name": "stdout",
          "text": [
            "<class 'pandas.core.frame.DataFrame'>\n",
            "RangeIndex: 253680 entries, 0 to 253679\n",
            "Data columns (total 22 columns):\n",
            " #   Column                Non-Null Count   Dtype\n",
            "---  ------                --------------   -----\n",
            " 0   Diabetes_binary       253680 non-null  int64\n",
            " 1   HighBP                253680 non-null  int64\n",
            " 2   HighChol              253680 non-null  int64\n",
            " 3   CholCheck             253680 non-null  int64\n",
            " 4   BMI                   253680 non-null  int64\n",
            " 5   Smoker                253680 non-null  int64\n",
            " 6   Stroke                253680 non-null  int64\n",
            " 7   HeartDiseaseorAttack  253680 non-null  int64\n",
            " 8   PhysActivity          253680 non-null  int64\n",
            " 9   Fruits                253680 non-null  int64\n",
            " 10  Veggies               253680 non-null  int64\n",
            " 11  HvyAlcoholConsump     253680 non-null  int64\n",
            " 12  AnyHealthcare         253680 non-null  int64\n",
            " 13  NoDocbcCost           253680 non-null  int64\n",
            " 14  GenHlth               253680 non-null  int64\n",
            " 15  MentHlth              253680 non-null  int64\n",
            " 16  PhysHlth              253680 non-null  int64\n",
            " 17  DiffWalk              253680 non-null  int64\n",
            " 18  Sex                   253680 non-null  int64\n",
            " 19  Age                   253680 non-null  int64\n",
            " 20  Education             253680 non-null  int64\n",
            " 21  Income                253680 non-null  int64\n",
            "dtypes: int64(22)\n",
            "memory usage: 42.6 MB\n"
          ]
        }
      ],
      "source": [
        "#check dtype for datset \n",
        "Diabetes.info()"
      ]
    },
    {
      "cell_type": "code",
      "source": [
        "#all data type for columns change from float to int"
      ],
      "metadata": {
        "id": "ZYDoAgjWNFRZ"
      },
      "execution_count": 49,
      "outputs": []
    },
    {
      "cell_type": "markdown",
      "metadata": {
        "id": "hIrYD6ZzfGOr"
      },
      "source": [
        "Check blance for tragt class"
      ]
    },
    {
      "cell_type": "code",
      "execution_count": 50,
      "metadata": {
        "colab": {
          "base_uri": "https://localhost:8080/",
          "height": 321
        },
        "id": "JurTrC8yfBT_",
        "outputId": "d9958531-d461-46a6-af20-fc2dd16a3cc5"
      },
      "outputs": [
        {
          "output_type": "execute_result",
          "data": {
            "text/plain": [
              "array([[<matplotlib.axes._subplots.AxesSubplot object at 0x7f52c4404990>]],\n",
              "      dtype=object)"
            ]
          },
          "metadata": {},
          "execution_count": 50
        },
        {
          "output_type": "display_data",
          "data": {
            "image/png": "[encoded data removed]",
            "text/plain": [
              "<Figure size 432x288 with 1 Axes>"
            ]
          },
          "metadata": {
            "needs_background": "light"
          }
        }
      ],
      "source": [
        "Diabetes.hist('Diabetes_binary')#imbalanced Class"
      ]
    },
    {
      "cell_type": "code",
      "source": [
        "##imbalanced (target class)"
      ],
      "metadata": {
        "id": "EPEK3LZiNTd2"
      },
      "execution_count": 51,
      "outputs": []
    },
    {
      "cell_type": "markdown",
      "source": [
        "Discover good features \n",
        "\n",
        "    use heatmap"
      ],
      "metadata": {
        "id": "OjaZ6DTmNqgy"
      }
    },
    {
      "cell_type": "code",
      "execution_count": 52,
      "metadata": {
        "colab": {
          "base_uri": "https://localhost:8080/",
          "height": 939
        },
        "id": "CbHF1j9lfOf0",
        "outputId": "6af985ac-fad2-4e64-bca6-e2bff1fb3627"
      },
      "outputs": [
        {
          "output_type": "display_data",
          "data": {
            "image/png": "[encoded data removed]",
            "text/plain": [
              "<Figure size 1080x1008 with 2 Axes>"
            ]
          },
          "metadata": {
            "needs_background": "light"
          }
        }
      ],
      "source": [
        "\n",
        "plt.figure(figsize = (15,14))\n",
        "sns.heatmap(Diabetes.corr() ,annot = True)\n",
        "plt.title(\"Correlation\")\n",
        "plt.show()"
      ]
    },
    {
      "cell_type": "markdown",
      "metadata": {
        "id": "s-hyZO1PfYoD"
      },
      "source": [
        "    good features\n",
        "    \n",
        "    Eduction\n",
        "    income \n",
        "    age\n",
        "    HighBp\n",
        "    Genhealth \n",
        "    Physhlth\n",
        "    DiffWalk "
      ]
    },
    {
      "cell_type": "markdown",
      "source": [
        "Modeling \n",
        "\n",
        "Logistic Regression and KNeighborsClassifier"
      ],
      "metadata": {
        "id": "eCzujbYcPmEB"
      }
    },
    {
      "cell_type": "markdown",
      "source": [
        "Separate the data to training and testing\n",
        "\n",
        "        x represent all features\n",
        "        y represent target class ,Diabetes_binary"
      ],
      "metadata": {
        "id": "ynCiNsE0QytN"
      }
    },
    {
      "cell_type": "code",
      "execution_count": 53,
      "metadata": {
        "id": "UDoSbW2tfq7B"
      },
      "outputs": [],
      "source": [
        "#Separate the data to training and testing\n",
        "#x take all features , y is targt class \n",
        "X = Diabetes.drop('Diabetes_binary', axis = 1)\n",
        "y = Diabetes['Diabetes_binary']\n",
        "X_train, X_test, y_train, y_test = train_test_split(X, y, test_size = 0.2, random_state = 42)"
      ]
    },
    {
      "cell_type": "code",
      "execution_count": 54,
      "metadata": {
        "colab": {
          "base_uri": "https://localhost:8080/"
        },
        "id": "0wr130dzfxdc",
        "outputId": "07752374-19d2-46d8-c49c-6243439d11c9"
      },
      "outputs": [
        {
          "output_type": "stream",
          "name": "stdout",
          "text": [
            "(202944, 21)\n",
            "(202944,)\n",
            "(50736, 21)\n",
            "(50736,)\n"
          ]
        }
      ],
      "source": [
        "print(X_train.shape)\n",
        "print(y_train.shape)\n",
        "print(X_test.shape)\n",
        "print(y_test.shape)"
      ]
    },
    {
      "cell_type": "code",
      "source": [
        "#Handling imbalanced data use SMOTE \n",
        "#is one of the most commonly used oversampling method to solve the imbalance problem "
      ],
      "metadata": {
        "id": "N-H4wEUYV9bW"
      },
      "execution_count": null,
      "outputs": []
    },
    {
      "cell_type": "code",
      "execution_count": 55,
      "metadata": {
        "colab": {
          "base_uri": "https://localhost:8080/"
        },
        "id": "8nrvfLrKf15b",
        "outputId": "76bf0212-fb8f-4896-ff05-982d23bb10b0"
      },
      "outputs": [
        {
          "output_type": "stream",
          "name": "stdout",
          "text": [
            "Before OverSampling, counts of label '1': 28349\n",
            "Before OverSampling, counts of label '0': 174595 \n",
            "\n",
            "After OverSampling, the shape of train_X: (349190, 21)\n",
            "After OverSampling, the shape of train_y: (349190,) \n",
            "\n",
            "After OverSampling, counts of label '1': 174595\n",
            "After OverSampling, counts of label '0': 174595\n"
          ]
        }
      ],
      "source": [
        "from imblearn.over_sampling import SMOTE\n",
        "print(\"Before OverSampling, counts of label '1': {}\".format(sum(y_train == 1)))\n",
        "print(\"Before OverSampling, counts of label '0': {} \\n\".format(sum(y_train == 0)))\n",
        "  \n",
        "# import SMOTE module from imblearn library\n",
        "# pip install imblearn (if you don't have imblearn in your system)\n",
        "from imblearn.over_sampling import SMOTE\n",
        "sm = SMOTE(random_state = 2)\n",
        "X_train_res, y_train_res = sm.fit_resample(X_train, y_train.ravel())\n",
        "  \n",
        "print('After OverSampling, the shape of train_X: {}'.format(X_train_res.shape))\n",
        "print('After OverSampling, the shape of train_y: {} \\n'.format(y_train_res.shape))\n",
        "  \n",
        "print(\"After OverSampling, counts of label '1': {}\".format(sum(y_train_res == 1)))\n",
        "print(\"After OverSampling, counts of label '0': {}\".format(sum(y_train_res == 0)))"
      ]
    },
    {
      "cell_type": "markdown",
      "source": [
        "Logistic Regression"
      ],
      "metadata": {
        "id": "Lk_50SVOXCg5"
      }
    },
    {
      "cell_type": "code",
      "source": [
        "# first Model with all features (Logistic Regression)"
      ],
      "metadata": {
        "id": "PdwzJ_4EZBkl"
      },
      "execution_count": 56,
      "outputs": []
    },
    {
      "cell_type": "code",
      "execution_count": 57,
      "metadata": {
        "colab": {
          "base_uri": "https://localhost:8080/"
        },
        "id": "tbPWyC3ykOTl",
        "outputId": "dc7c12e2-0364-43a5-a474-1519cac86f9b"
      },
      "outputs": [
        {
          "output_type": "stream",
          "name": "stderr",
          "text": [
            "/usr/local/lib/python3.7/dist-packages/sklearn/linear_model/_logistic.py:818: ConvergenceWarning: lbfgs failed to converge (status=1):\n",
            "STOP: TOTAL NO. of ITERATIONS REACHED LIMIT.\n",
            "\n",
            "Increase the number of iterations (max_iter) or scale the data as shown in:\n",
            "    https://scikit-learn.org/stable/modules/preprocessing.html\n",
            "Please also refer to the documentation for alternative solver options:\n",
            "    https://scikit-learn.org/stable/modules/linear_model.html#logistic-regression\n",
            "  extra_warning_msg=_LOGISTIC_SOLVER_CONVERGENCE_MSG,\n"
          ]
        }
      ],
      "source": [
        "#I choose two Model Logistic Regression and KNeighborsClassifier\n",
        "# Logistic Regression\n",
        "Ml = LogisticRegression()\n",
        "fit_m = Ml.fit(X_train_res, y_train_res.ravel())\n",
        "pred = fit_m.predict(X_test)"
      ]
    },
    {
      "cell_type": "code",
      "execution_count": 58,
      "metadata": {
        "colab": {
          "base_uri": "https://localhost:8080/"
        },
        "id": "FWGABpPVkfJI",
        "outputId": "d25c0b1c-273e-43f0-ebcd-80db8acd2c97"
      },
      "outputs": [
        {
          "output_type": "execute_result",
          "data": {
            "text/plain": [
              "0.7366934906497895"
            ]
          },
          "metadata": {},
          "execution_count": 58
        }
      ],
      "source": [
        "Ml.score(X_train_res, y_train_res.ravel())"
      ]
    },
    {
      "cell_type": "code",
      "execution_count": 59,
      "metadata": {
        "colab": {
          "base_uri": "https://localhost:8080/"
        },
        "id": "3rIsW9GdklxH",
        "outputId": "805eaacc-22fe-45ac-e6b9-2ce9ff29a83c"
      },
      "outputs": [
        {
          "output_type": "execute_result",
          "data": {
            "text/plain": [
              "0.7221302428256071"
            ]
          },
          "metadata": {},
          "execution_count": 59
        }
      ],
      "source": [
        "from sklearn.metrics import accuracy_score\n",
        "accuracy_score(y_test, pred)"
      ]
    },
    {
      "cell_type": "code",
      "source": [
        "#compare between tarining = 0.73  and (y_test,pred) =0.72 is fiting"
      ],
      "metadata": {
        "id": "9_jRCfp0XOmS"
      },
      "execution_count": 60,
      "outputs": []
    },
    {
      "cell_type": "code",
      "source": [
        "#use classification_report "
      ],
      "metadata": {
        "id": "Ny539e42XvGk"
      },
      "execution_count": 61,
      "outputs": []
    },
    {
      "cell_type": "code",
      "execution_count": 62,
      "metadata": {
        "colab": {
          "base_uri": "https://localhost:8080/"
        },
        "id": "-xETI0fLkvb7",
        "outputId": "077f4174-2f36-4be1-de36-e57ad5c81d0a"
      },
      "outputs": [
        {
          "output_type": "stream",
          "name": "stdout",
          "text": [
            "              precision    recall  f1-score   support\n",
            "\n",
            "           0       0.93      0.73      0.82     43739\n",
            "           1       0.29      0.68      0.40      6997\n",
            "\n",
            "    accuracy                           0.72     50736\n",
            "   macro avg       0.61      0.70      0.61     50736\n",
            "weighted avg       0.84      0.72      0.76     50736\n",
            "\n"
          ]
        }
      ],
      "source": [
        "print(classification_report(y_test, pred))"
      ]
    },
    {
      "cell_type": "code",
      "source": [
        "#use confusion_metrix"
      ],
      "metadata": {
        "id": "gqyq01wIYyMp"
      },
      "execution_count": 64,
      "outputs": []
    },
    {
      "cell_type": "code",
      "source": [
        "from sklearn.metrics import plot_confusion_matrix"
      ],
      "metadata": {
        "id": "fyCLuqbBbY3u"
      },
      "execution_count": 65,
      "outputs": []
    },
    {
      "cell_type": "code",
      "execution_count": null,
      "metadata": {
        "colab": {
          "base_uri": "https://localhost:8080/"
        },
        "id": "TO9u-vZ6k2E8",
        "outputId": "ea365eeb-26db-41aa-9554-f144c56f7cec"
      },
      "outputs": [
        {
          "output_type": "stream",
          "name": "stdout",
          "text": [
            "[[31881 11858]\n",
            " [ 2240  4757]]\n"
          ]
        }
      ],
      "source": [
        "print(confusion_matrix(y_test,pred))"
      ]
    },
    {
      "cell_type": "code",
      "source": [
        "plot_confusion_matrix(Ml,X_test,y_test)"
      ],
      "metadata": {
        "colab": {
          "base_uri": "https://localhost:8080/",
          "height": 360
        },
        "id": "FLPzFHbdb6Hb",
        "outputId": "9aee3b68-0d5d-4342-fa37-b1bd0ce2a1af"
      },
      "execution_count": 66,
      "outputs": [
        {
          "output_type": "stream",
          "name": "stderr",
          "text": [
            "/usr/local/lib/python3.7/dist-packages/sklearn/utils/deprecation.py:87: FutureWarning: Function plot_confusion_matrix is deprecated; Function `plot_confusion_matrix` is deprecated in 1.0 and will be removed in 1.2. Use one of the class methods: ConfusionMatrixDisplay.from_predictions or ConfusionMatrixDisplay.from_estimator.\n",
            "  warnings.warn(msg, category=FutureWarning)\n"
          ]
        },
        {
          "output_type": "execute_result",
          "data": {
            "text/plain": [
              "<sklearn.metrics._plot.confusion_matrix.ConfusionMatrixDisplay at 0x7f52c3d2b090>"
            ]
          },
          "metadata": {},
          "execution_count": 66
        },
        {
          "output_type": "display_data",
          "data": {
            "image/png": "[encoded data removed]",
            "text/plain": [
              "<Figure size 432x288 with 2 Axes>"
            ]
          },
          "metadata": {
            "needs_background": "light"
          }
        }
      ]
    },
    {
      "cell_type": "code",
      "execution_count": 67,
      "metadata": {
        "id": "C57Z8Vpy3cF6"
      },
      "outputs": [],
      "source": [
        "#Ml is fit \n",
        "#Accuracy = 0.72"
      ]
    },
    {
      "cell_type": "markdown",
      "source": [
        " KNeighborsClassifier"
      ],
      "metadata": {
        "id": "ZXKjUvNdZ1kk"
      }
    },
    {
      "cell_type": "code",
      "source": [
        "# second Model with all features (#KNeighborsClassifier)"
      ],
      "metadata": {
        "id": "GHU4g0vDZaX8"
      },
      "execution_count": 68,
      "outputs": []
    },
    {
      "cell_type": "code",
      "execution_count": 69,
      "metadata": {
        "id": "mCN8PgPwk54H"
      },
      "outputs": [],
      "source": [
        "#KNeighborsClassifier\n",
        "Model = KNeighborsClassifier(n_neighbors=2)\n",
        "fitmodel = Model.fit(X_train_res, y_train_res.ravel())\n",
        "pred = fitmodel.predict(X_test)"
      ]
    },
    {
      "cell_type": "code",
      "source": [
        "#calculate and compare between tarining value and (y_test,pred) value"
      ],
      "metadata": {
        "id": "RjqSKhFKbrZu"
      },
      "execution_count": 70,
      "outputs": []
    },
    {
      "cell_type": "code",
      "execution_count": 72,
      "metadata": {
        "id": "BfRUlRrXy2j_"
      },
      "outputs": [],
      "source": [
        "#Ml.score(X_train_res, y_train_res.ravel())"
      ]
    },
    {
      "cell_type": "code",
      "execution_count": 73,
      "metadata": {
        "id": "t2mxCLaql-62"
      },
      "outputs": [],
      "source": [
        "#accuracy_score(y_test, pred)"
      ]
    },
    {
      "cell_type": "code",
      "source": [
        "#use classification_report "
      ],
      "metadata": {
        "id": "3Oupppakb4Fd"
      },
      "execution_count": 71,
      "outputs": []
    },
    {
      "cell_type": "code",
      "execution_count": 74,
      "metadata": {
        "colab": {
          "base_uri": "https://localhost:8080/"
        },
        "id": "X47Mrx1dyLzW",
        "outputId": "86519473-c0f0-4cbe-c58e-8c373fce996e"
      },
      "outputs": [
        {
          "output_type": "stream",
          "name": "stdout",
          "text": [
            "              precision    recall  f1-score   support\n",
            "\n",
            "           0       0.88      0.90      0.89     43739\n",
            "           1       0.29      0.26      0.27      6997\n",
            "\n",
            "    accuracy                           0.81     50736\n",
            "   macro avg       0.59      0.58      0.58     50736\n",
            "weighted avg       0.80      0.81      0.81     50736\n",
            "\n"
          ]
        }
      ],
      "source": [
        "print(classification_report(y_test, pred))"
      ]
    },
    {
      "cell_type": "code",
      "source": [
        "#use confusion_matrix"
      ],
      "metadata": {
        "id": "Vzx7phbPcWMu"
      },
      "execution_count": 75,
      "outputs": []
    },
    {
      "cell_type": "code",
      "source": [
        "print(confusion_matrix(y_test,pred))"
      ],
      "metadata": {
        "colab": {
          "base_uri": "https://localhost:8080/"
        },
        "id": "wRfCKOD2cYON",
        "outputId": "995d301b-c0d1-40a9-ab97-504d6ecf68f2"
      },
      "execution_count": 76,
      "outputs": [
        {
          "output_type": "stream",
          "name": "stdout",
          "text": [
            "[[39322  4417]\n",
            " [ 5194  1803]]\n"
          ]
        }
      ]
    },
    {
      "cell_type": "code",
      "source": [
        " #visulaztion plot_confusion_matrix(Ml,X_test,y_test)"
      ],
      "metadata": {
        "id": "A2iT27-wf9lP"
      },
      "execution_count": 110,
      "outputs": []
    },
    {
      "cell_type": "code",
      "execution_count": 79,
      "metadata": {
        "id": "dhYX4w_K3njj"
      },
      "outputs": [],
      "source": [
        "#Acuuracy for  second Model = 0.81"
      ]
    },
    {
      "cell_type": "code",
      "source": [
        "#Comparison of the two models"
      ],
      "metadata": {
        "id": "og5ng07GczzC"
      },
      "execution_count": 80,
      "outputs": []
    },
    {
      "cell_type": "code",
      "execution_count": 81,
      "metadata": {
        "id": "4nkzM9pwy_DE"
      },
      "outputs": [],
      "source": [
        "#KNeighbors better form logistic \n",
        "# prformance for KNN 0.81 ,but logistic 0.72"
      ]
    },
    {
      "cell_type": "markdown",
      "source": [
        " Now take good feature for train and test model "
      ],
      "metadata": {
        "id": "FJtbqE85dPb_"
      }
    },
    {
      "cell_type": "markdown",
      "source": [
        "Good features\n",
        "\n",
        "    Eduction \n",
        "\n",
        "    income \n",
        "\n",
        "    age\n",
        "\n",
        "    HighBp\n",
        "\n",
        "    Genhealth \n",
        "\n",
        "    Physhlth\n",
        "\n",
        "    diffWalk\n",
        "\n",
        "    ManHealth"
      ],
      "metadata": {
        "id": "aWycGwe0deLn"
      }
    },
    {
      "cell_type": "markdown",
      "source": [
        "Separate the data to training and testing\n",
        "\n",
        "    x represent good features\n",
        "    y represent target class ,Diabetes_binary"
      ],
      "metadata": {
        "id": "Bagg8IY4hPq-"
      }
    },
    {
      "cell_type": "code",
      "execution_count": 82,
      "metadata": {
        "id": "tIsf39P2zrP8"
      },
      "outputs": [],
      "source": [
        "X = Diabetes.drop(['Diabetes_binary','HighChol','CholCheck','BMI','Smoker','Stroke','HeartDiseaseorAttack',\n",
        "                    'PhysActivity','Fruits','Veggies','HvyAlcoholConsump','AnyHealthcare','NoDocbcCost'\n",
        "                    ,'Sex'] ,axis = 1)\n",
        "y = Diabetes['Diabetes_binary']\n",
        "X_train, X_test, y_train, y_test = train_test_split(X, y, test_size = 0.2, random_state = 42)"
      ]
    },
    {
      "cell_type": "code",
      "execution_count": 83,
      "metadata": {
        "colab": {
          "base_uri": "https://localhost:8080/"
        },
        "id": "1px4pyq_0LSv",
        "outputId": "7f664b10-5c26-4640-eecc-9985d4f03a24"
      },
      "outputs": [
        {
          "output_type": "stream",
          "name": "stdout",
          "text": [
            "(202944, 8)\n",
            "(202944,)\n",
            "(50736, 8)\n",
            "(50736,)\n"
          ]
        }
      ],
      "source": [
        "print(X_train.shape)\n",
        "print(y_train.shape)\n",
        "print(X_test.shape)\n",
        "print(y_test.shape)"
      ]
    },
    {
      "cell_type": "code",
      "execution_count": 84,
      "metadata": {
        "colab": {
          "base_uri": "https://localhost:8080/"
        },
        "id": "lf-8nRVC0Zv_",
        "outputId": "90d976ad-1ef0-4a91-8c58-0b7242048e6e"
      },
      "outputs": [
        {
          "output_type": "stream",
          "name": "stdout",
          "text": [
            "Before OverSampling, counts of label '1': 28349\n",
            "Before OverSampling, counts of label '0': 174595 \n",
            "\n",
            "After OverSampling, the shape of train_X: (349190, 21)\n",
            "After OverSampling, the shape of train_y: (349190,) \n",
            "\n",
            "After OverSampling, counts of label '1': 174595\n",
            "After OverSampling, counts of label '0': 174595\n"
          ]
        }
      ],
      "source": [
        "from imblearn.over_sampling import SMOTE\n",
        "print(\"Before OverSampling, counts of label '1': {}\".format(sum(y_train == 1)))\n",
        "print(\"Before OverSampling, counts of label '0': {} \\n\".format(sum(y_train == 0)))\n",
        "  \n",
        "# import SMOTE module from imblearn library\n",
        "# pip install imblearn (if you don't have imblearn in your system)\n",
        "from imblearn.over_sampling import SMOTE\n",
        "sl= SMOTE(random_state = 2)\n",
        "X_train_res_2, y_train_res_2 = sl.fit_resample(X_train, y_train.ravel())\n",
        "  \n",
        "print('After OverSampling, the shape of train_X: {}'.format(X_train_res.shape))\n",
        "print('After OverSampling, the shape of train_y: {} \\n'.format(y_train_res.shape))\n",
        "  \n",
        "print(\"After OverSampling, counts of label '1': {}\".format(sum(y_train_res == 1)))\n",
        "print(\"After OverSampling, counts of label '0': {}\".format(sum(y_train_res == 0)))"
      ]
    },
    {
      "cell_type": "markdown",
      "source": [
        "Logistic Regression"
      ],
      "metadata": {
        "id": "Iy0WuPmGiXM3"
      }
    },
    {
      "cell_type": "code",
      "source": [
        "#third Model with good features (Logistic Regression)"
      ],
      "metadata": {
        "id": "GLLYSHAJifZH"
      },
      "execution_count": 85,
      "outputs": []
    },
    {
      "cell_type": "code",
      "execution_count": 86,
      "metadata": {
        "id": "TT-g2WYQ0sHt"
      },
      "outputs": [],
      "source": [
        "Model3 = LogisticRegression()\n",
        "fit_m = Model3.fit(X_train_res_2, y_train_res_2.ravel())\n",
        "pred = fit_m.predict(X_test)"
      ]
    },
    {
      "cell_type": "code",
      "source": [
        "#calculate and compare between tarining Secore and (y_test,pred) Accuracy secore"
      ],
      "metadata": {
        "id": "L8Q3Eje2jEIW"
      },
      "execution_count": 87,
      "outputs": []
    },
    {
      "cell_type": "code",
      "execution_count": 88,
      "metadata": {
        "colab": {
          "base_uri": "https://localhost:8080/"
        },
        "id": "lpiBjpFI093B",
        "outputId": "0be09481-985b-49b0-a076-16c28c3506cd"
      },
      "outputs": [
        {
          "output_type": "execute_result",
          "data": {
            "text/plain": [
              "0.7116097253644148"
            ]
          },
          "metadata": {},
          "execution_count": 88
        }
      ],
      "source": [
        "Model3.score(X_train_res_2, y_train_res_2.ravel())"
      ]
    },
    {
      "cell_type": "code",
      "execution_count": 89,
      "metadata": {
        "colab": {
          "base_uri": "https://localhost:8080/"
        },
        "id": "xb4RYX0x1Jze",
        "outputId": "41326a83-5d4a-4186-b472-eb2c48ad7095"
      },
      "outputs": [
        {
          "output_type": "execute_result",
          "data": {
            "text/plain": [
              "0.7006267738883633"
            ]
          },
          "metadata": {},
          "execution_count": 89
        }
      ],
      "source": [
        "accuracy_score(y_test, pred)"
      ]
    },
    {
      "cell_type": "code",
      "source": [
        "#compare between tarining = 0.71 and (y_test,pred) =0.70 is fiting"
      ],
      "metadata": {
        "id": "Ferh1tD1jI9l"
      },
      "execution_count": 90,
      "outputs": []
    },
    {
      "cell_type": "code",
      "source": [
        "# use classification_report"
      ],
      "metadata": {
        "id": "nM2JxwdEjVXR"
      },
      "execution_count": 91,
      "outputs": []
    },
    {
      "cell_type": "code",
      "execution_count": 92,
      "metadata": {
        "colab": {
          "base_uri": "https://localhost:8080/"
        },
        "id": "4fWNg3Fo1UUt",
        "outputId": "f64e5910-456e-4f80-be38-08604a2afad0"
      },
      "outputs": [
        {
          "output_type": "stream",
          "name": "stdout",
          "text": [
            "              precision    recall  f1-score   support\n",
            "\n",
            "           0       0.95      0.69      0.80     43739\n",
            "           1       0.28      0.76      0.41      6997\n",
            "\n",
            "    accuracy                           0.70     50736\n",
            "   macro avg       0.62      0.73      0.61     50736\n",
            "weighted avg       0.86      0.70      0.75     50736\n",
            "\n"
          ]
        }
      ],
      "source": [
        "print(classification_report(y_test, pred))"
      ]
    },
    {
      "cell_type": "code",
      "source": [
        "#use confusion Matrix"
      ],
      "metadata": {
        "id": "xwx05KKbjekJ"
      },
      "execution_count": 93,
      "outputs": []
    },
    {
      "cell_type": "code",
      "execution_count": 94,
      "metadata": {
        "colab": {
          "base_uri": "https://localhost:8080/"
        },
        "id": "rHdoese81eCz",
        "outputId": "0a64d94a-0367-4b51-cc5d-a17ce56b0f5f"
      },
      "outputs": [
        {
          "output_type": "stream",
          "name": "stdout",
          "text": [
            "[[30220 13519]\n",
            " [ 1670  5327]]\n"
          ]
        }
      ],
      "source": [
        "print(confusion_matrix(y_test,pred))"
      ]
    },
    {
      "cell_type": "code",
      "source": [
        "plot_confusion_matrix(Model3,X_test,y_test)"
      ],
      "metadata": {
        "colab": {
          "base_uri": "https://localhost:8080/",
          "height": 362
        },
        "id": "7Vw-69Weeogy",
        "outputId": "46bfc00d-9bad-4e2e-8e23-e2eba8d1697f"
      },
      "execution_count": 95,
      "outputs": [
        {
          "output_type": "stream",
          "name": "stderr",
          "text": [
            "/usr/local/lib/python3.7/dist-packages/sklearn/utils/deprecation.py:87: FutureWarning: Function plot_confusion_matrix is deprecated; Function `plot_confusion_matrix` is deprecated in 1.0 and will be removed in 1.2. Use one of the class methods: ConfusionMatrixDisplay.from_predictions or ConfusionMatrixDisplay.from_estimator.\n",
            "  warnings.warn(msg, category=FutureWarning)\n"
          ]
        },
        {
          "output_type": "execute_result",
          "data": {
            "text/plain": [
              "<sklearn.metrics._plot.confusion_matrix.ConfusionMatrixDisplay at 0x7f52c3bcfe10>"
            ]
          },
          "metadata": {},
          "execution_count": 95
        },
        {
          "output_type": "display_data",
          "data": {
            "image/png": "[encoded data removed]",
            "text/plain": [
              "<Figure size 432x288 with 2 Axes>"
            ]
          },
          "metadata": {
            "needs_background": "light"
          }
        }
      ]
    },
    {
      "cell_type": "code",
      "execution_count": 96,
      "metadata": {
        "id": "kV4ERMqN246h"
      },
      "outputs": [],
      "source": [
        "#Third Model is fit \n",
        "#Acuuracy  = 0.70"
      ]
    },
    {
      "cell_type": "markdown",
      "source": [
        "KNeighborsClassifier"
      ],
      "metadata": {
        "id": "1gx3Iu1Bj-yo"
      }
    },
    {
      "cell_type": "code",
      "source": [
        "#fourth Model (KNeighborsClassifier)"
      ],
      "metadata": {
        "id": "I9bFEqiOkCK8"
      },
      "execution_count": 97,
      "outputs": []
    },
    {
      "cell_type": "code",
      "execution_count": 98,
      "metadata": {
        "id": "_nYUjKKQ1fk0"
      },
      "outputs": [],
      "source": [
        "#KNeighborsClassifier\n",
        "Model4 = KNeighborsClassifier(n_neighbors=2)\n",
        "fitmodel = Model4.fit(X_train_res_2, y_train_res_2.ravel())\n",
        "pred = fitmodel.predict(X_test)"
      ]
    },
    {
      "cell_type": "code",
      "source": [
        "#calculate and compare between tarining Secore and (y_test,pred) Accuracy secore"
      ],
      "metadata": {
        "id": "fTsT5UbRkvks"
      },
      "execution_count": 99,
      "outputs": []
    },
    {
      "cell_type": "code",
      "execution_count": 100,
      "metadata": {
        "colab": {
          "base_uri": "https://localhost:8080/"
        },
        "id": "D7LMbBP81ru0",
        "outputId": "6c694d61-dc1f-4027-c582-965f7443eaaf"
      },
      "outputs": [
        {
          "output_type": "execute_result",
          "data": {
            "text/plain": [
              "0.6923394140725679"
            ]
          },
          "metadata": {},
          "execution_count": 100
        }
      ],
      "source": [
        "Model4.score(X_train_res_2, y_train_res_2.ravel())"
      ]
    },
    {
      "cell_type": "code",
      "execution_count": 101,
      "metadata": {
        "colab": {
          "base_uri": "https://localhost:8080/"
        },
        "id": "u-YAwAwG1w-8",
        "outputId": "d2aec8d3-bb19-4263-9b4c-d634dce0f742"
      },
      "outputs": [
        {
          "output_type": "execute_result",
          "data": {
            "text/plain": [
              "0.8332347839798171"
            ]
          },
          "metadata": {},
          "execution_count": 101
        }
      ],
      "source": [
        "accuracy_score(y_test, pred)"
      ]
    },
    {
      "cell_type": "code",
      "source": [
        "#compare between tarining = 0.69 and (y_test,pred) =0.83 is underfit"
      ],
      "metadata": {
        "id": "iUv5dpJKlMxH"
      },
      "execution_count": 102,
      "outputs": []
    },
    {
      "cell_type": "code",
      "execution_count": 103,
      "metadata": {
        "id": "c23feZh92knk"
      },
      "outputs": [],
      "source": [
        "#use classification_report"
      ]
    },
    {
      "cell_type": "code",
      "execution_count": 104,
      "metadata": {
        "colab": {
          "base_uri": "https://localhost:8080/"
        },
        "id": "FA4cpvpy2AIg",
        "outputId": "93df61e1-450a-42a4-855f-5b470468a739"
      },
      "outputs": [
        {
          "output_type": "stream",
          "name": "stdout",
          "text": [
            "              precision    recall  f1-score   support\n",
            "\n",
            "           0       0.87      0.94      0.91     43739\n",
            "           1       0.29      0.15      0.19      6997\n",
            "\n",
            "    accuracy                           0.83     50736\n",
            "   macro avg       0.58      0.54      0.55     50736\n",
            "weighted avg       0.79      0.83      0.81     50736\n",
            "\n"
          ]
        }
      ],
      "source": [
        "print(classification_report(y_test, pred))"
      ]
    },
    {
      "cell_type": "code",
      "source": [
        "#Accuracy for fourth model = 0.83"
      ],
      "metadata": {
        "id": "ZFf5IkJTliBH"
      },
      "execution_count": 105,
      "outputs": []
    },
    {
      "cell_type": "code",
      "execution_count": 106,
      "metadata": {
        "colab": {
          "base_uri": "https://localhost:8080/"
        },
        "id": "DVGN1zab2Gye",
        "outputId": "44fc6811-2b9e-411a-95d6-e0aab5ef7b0e"
      },
      "outputs": [
        {
          "output_type": "stream",
          "name": "stdout",
          "text": [
            "[[41258  2481]\n",
            " [ 5980  1017]]\n"
          ]
        }
      ],
      "source": [
        "print(confusion_matrix(y_test,pred))"
      ]
    },
    {
      "cell_type": "code",
      "source": [
        "plot_confusion_matrix(Model4,X_test,y_test)"
      ],
      "metadata": {
        "colab": {
          "base_uri": "https://localhost:8080/",
          "height": 360
        },
        "id": "Pm8_kPgrfRo3",
        "outputId": "c25a85c2-8c80-4a4b-ab42-b670a1495670"
      },
      "execution_count": 107,
      "outputs": [
        {
          "output_type": "stream",
          "name": "stderr",
          "text": [
            "/usr/local/lib/python3.7/dist-packages/sklearn/utils/deprecation.py:87: FutureWarning: Function plot_confusion_matrix is deprecated; Function `plot_confusion_matrix` is deprecated in 1.0 and will be removed in 1.2. Use one of the class methods: ConfusionMatrixDisplay.from_predictions or ConfusionMatrixDisplay.from_estimator.\n",
            "  warnings.warn(msg, category=FutureWarning)\n"
          ]
        },
        {
          "output_type": "execute_result",
          "data": {
            "text/plain": [
              "<sklearn.metrics._plot.confusion_matrix.ConfusionMatrixDisplay at 0x7f52c3af7c10>"
            ]
          },
          "metadata": {},
          "execution_count": 107
        },
        {
          "output_type": "display_data",
          "data": {
            "image/png": "[encoded data removed]",
            "text/plain": [
              "<Figure size 432x288 with 2 Axes>"
            ]
          },
          "metadata": {
            "needs_background": "light"
          }
        }
      ]
    },
    {
      "cell_type": "code",
      "execution_count": 108,
      "metadata": {
        "id": "MSo-eCyd33OF"
      },
      "outputs": [],
      "source": [
        "#fourth Model is better of all Model  becues Accurcy =0.83"
      ]
    }
  ],
  "metadata": {
    "colab": {
      "collapsed_sections": [],
      "name": "Dibetes_c.ipynb",
      "provenance": []
    },
    "kernelspec": {
      "display_name": "Python 3",
      "language": "python",
      "name": "python3"
    },
    "language_info": {
      "codemirror_mode": {
        "name": "ipython",
        "version": 3
      },
      "file_extension": ".py",
      "mimetype": "text/x-python",
      "name": "python",
      "nbconvert_exporter": "python",
      "pygments_lexer": "ipython3",
      "version": "3.7.6"
    }
  },
  "nbformat": 4,
  "nbformat_minor": 0
}
